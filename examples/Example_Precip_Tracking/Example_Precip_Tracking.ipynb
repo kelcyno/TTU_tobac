{
 "cells": [
  {
   "cell_type": "markdown",
   "metadata": {},
   "source": [
    "tobac example: Tracking of precipitation features\n",
    "===\n",
    "This example notebook demonstrates the use of tobac to track precipitation features from isolated deep convective clouds.\n",
    "\n",
    "The simulation results used in this example were performed as part of the ACPC deep convection intercomparison  case study (http://acpcinitiative.org/Docs/ACPC_DCC_Roadmap_171019.pdf) with WRF using the Morrison microphysics scheme.\n",
    "\n",
    "The data used in this example is downloaded from \"zenodo link\" automatically as part of the notebooks (This only has to be done once for all the tobac example notebooks)."
   ]
  },
  {
   "cell_type": "markdown",
   "metadata": {},
   "source": [
    "**Import necessary python libraries:**"
   ]
  },
  {
   "cell_type": "code",
   "execution_count": 1,
   "metadata": {},
   "outputs": [],
   "source": [
    "# Import libraries\n",
    "import iris\n",
    "import numpy as np\n",
    "import pandas as pd\n",
    "import os,sys\n",
    "import matplotlib.pyplot as plt\n",
    "import iris.plot as iplt\n",
    "import iris.quickplot as qplt\n",
    "import datetime\n",
    "import zipfile,shutil\n",
    "from six.moves import urllib\n",
    "from glob import glob\n",
    "%matplotlib inline"
   ]
  },
  {
   "cell_type": "code",
   "execution_count": 2,
   "metadata": {},
   "outputs": [],
   "source": [
    "# Import tobac itself\n",
    "import tobac"
   ]
  },
  {
   "cell_type": "code",
   "execution_count": 3,
   "metadata": {},
   "outputs": [],
   "source": [
    "# Disable a few warnings:\n",
    "import warnings\n",
    "warnings.filterwarnings('ignore', category=UserWarning, append=True)\n",
    "warnings.filterwarnings('ignore', category=RuntimeWarning, append=True)\n",
    "warnings.filterwarnings('ignore', category=FutureWarning, append=True)\n",
    "warnings.filterwarnings('ignore',category=pd.io.pytables.PerformanceWarning)"
   ]
  },
  {
   "cell_type": "markdown",
   "metadata": {},
   "source": [
    "**Download example data:**\n",
    "\n",
    "Actual download has to be performed only once for all example notebooks!"
   ]
  },
  {
   "cell_type": "code",
   "execution_count": 4,
   "metadata": {},
   "outputs": [],
   "source": [
    "data_out='../'"
   ]
  },
  {
   "cell_type": "code",
   "execution_count": 5,
   "metadata": {},
   "outputs": [],
   "source": [
    "# # Download the data: This only has to be done once for all tobac examples and can take a while\n",
    "# file_path='https://zenodo.org/record/3195910/files/climate-processes/tobac_example_data-v1.0.1.zip'\n",
    "# #file_path='http://zenodo..'\n",
    "# tempfile='temp.zip'\n",
    "# print('start downloading data')\n",
    "# request=urllib.request.urlretrieve(file_path,tempfile)\n",
    "# print('start extracting data')\n",
    "# shutil.unpack_archive(tempfile,data_out)\n",
    "# #zf = zipfile.ZipFile(tempfile)\n",
    "# #zf.extractall(data_out)\n",
    "# os.remove(tempfile)\n",
    "# print('data extracted')\n"
   ]
  },
  {
   "cell_type": "markdown",
   "metadata": {},
   "source": [
    "**Load Data from downloaded file:**"
   ]
  },
  {
   "cell_type": "code",
   "execution_count": 6,
   "metadata": {},
   "outputs": [],
   "source": [
    "data_file = os.path.join(data_out,'*','data','Example_input_Precip.nc')\n",
    "data_file = glob(data_file)[0]"
   ]
  },
  {
   "cell_type": "code",
   "execution_count": 7,
   "metadata": {},
   "outputs": [],
   "source": [
    "Precip=iris.load_cube(data_file,'surface_precipitation_average')"
   ]
  },
  {
   "cell_type": "code",
   "execution_count": 8,
   "metadata": {},
   "outputs": [
    {
     "data": {
      "text/html": [
       "\n",
       "<style>\n",
       "  a.iris {\n",
       "      text-decoration: none !important;\n",
       "  }\n",
       "  table.iris {\n",
       "      white-space: pre;\n",
       "      border: 1px solid;\n",
       "      border-color: #9c9c9c;\n",
       "      font-family: monaco, monospace;\n",
       "  }\n",
       "  th.iris {\n",
       "      background: #303f3f;\n",
       "      color: #e0e0e0;\n",
       "      border-left: 1px solid;\n",
       "      border-color: #9c9c9c;\n",
       "      font-size: 1.05em;\n",
       "      min-width: 50px;\n",
       "      max-width: 125px;\n",
       "  }\n",
       "  tr.iris :first-child {\n",
       "      border-right: 1px solid #9c9c9c !important;\n",
       "  }\n",
       "  td.iris-title {\n",
       "      background: #d5dcdf;\n",
       "      border-top: 1px solid #9c9c9c;\n",
       "      font-weight: bold;\n",
       "  }\n",
       "  .iris-word-cell {\n",
       "      text-align: left !important;\n",
       "      white-space: pre;\n",
       "  }\n",
       "  .iris-subheading-cell {\n",
       "      padding-left: 2em !important;\n",
       "  }\n",
       "  .iris-inclusion-cell {\n",
       "      padding-right: 1em !important;\n",
       "  }\n",
       "  .iris-panel-body {\n",
       "      padding-top: 0px;\n",
       "  }\n",
       "  .iris-panel-title {\n",
       "      padding-left: 3em;\n",
       "  }\n",
       "  .iris-panel-title {\n",
       "      margin-top: 7px;\n",
       "  }\n",
       "</style>\n",
       "<table class=\"iris\" id=\"139608816799136\">\n",
       "    <tr class=\"iris\">\n",
       "<th class=\"iris iris-word-cell\">Surface Precipitation Average (mm h-1)</th>\n",
       "<th class=\"iris iris-word-cell\">time</th>\n",
       "<th class=\"iris iris-word-cell\">south_north</th>\n",
       "<th class=\"iris iris-word-cell\">west_east</th>\n",
       "</tr>\n",
       "    <tr class=\"iris\">\n",
       "<td class=\"iris-word-cell iris-subheading-cell\">Shape</td>\n",
       "<td class=\"iris iris-inclusion-cell\">47</td>\n",
       "<td class=\"iris iris-inclusion-cell\">198</td>\n",
       "<td class=\"iris iris-inclusion-cell\">198</td>\n",
       "</td>\n",
       "    <tr class=\"iris\">\n",
       "    <td class=\"iris-title iris-word-cell\">Dimension coordinates</td>\n",
       "    <td class=\"iris-title\"></td>\n",
       "    <td class=\"iris-title\"></td>\n",
       "    <td class=\"iris-title\"></td>\n",
       "</tr>\n",
       "<tr class=\"iris\">\n",
       "    <td class=\"iris-word-cell iris-subheading-cell\">\ttime</td>\n",
       "    <td class=\"iris-inclusion-cell\">x</td>\n",
       "    <td class=\"iris-inclusion-cell\">-</td>\n",
       "    <td class=\"iris-inclusion-cell\">-</td>\n",
       "</tr>\n",
       "<tr class=\"iris\">\n",
       "    <td class=\"iris-word-cell iris-subheading-cell\">\tsouth_north</td>\n",
       "    <td class=\"iris-inclusion-cell\">-</td>\n",
       "    <td class=\"iris-inclusion-cell\">x</td>\n",
       "    <td class=\"iris-inclusion-cell\">-</td>\n",
       "</tr>\n",
       "<tr class=\"iris\">\n",
       "    <td class=\"iris-word-cell iris-subheading-cell\">\twest_east</td>\n",
       "    <td class=\"iris-inclusion-cell\">-</td>\n",
       "    <td class=\"iris-inclusion-cell\">-</td>\n",
       "    <td class=\"iris-inclusion-cell\">x</td>\n",
       "</tr>\n",
       "<tr class=\"iris\">\n",
       "    <td class=\"iris-title iris-word-cell\">Auxiliary coordinates</td>\n",
       "    <td class=\"iris-title\"></td>\n",
       "    <td class=\"iris-title\"></td>\n",
       "    <td class=\"iris-title\"></td>\n",
       "</tr>\n",
       "<tr class=\"iris\">\n",
       "    <td class=\"iris-word-cell iris-subheading-cell\">\tprojection_y_coordinate</td>\n",
       "    <td class=\"iris-inclusion-cell\">-</td>\n",
       "    <td class=\"iris-inclusion-cell\">x</td>\n",
       "    <td class=\"iris-inclusion-cell\">-</td>\n",
       "</tr>\n",
       "<tr class=\"iris\">\n",
       "    <td class=\"iris-word-cell iris-subheading-cell\">\ty</td>\n",
       "    <td class=\"iris-inclusion-cell\">-</td>\n",
       "    <td class=\"iris-inclusion-cell\">x</td>\n",
       "    <td class=\"iris-inclusion-cell\">-</td>\n",
       "</tr>\n",
       "<tr class=\"iris\">\n",
       "    <td class=\"iris-word-cell iris-subheading-cell\">\tlatitude</td>\n",
       "    <td class=\"iris-inclusion-cell\">-</td>\n",
       "    <td class=\"iris-inclusion-cell\">x</td>\n",
       "    <td class=\"iris-inclusion-cell\">x</td>\n",
       "</tr>\n",
       "<tr class=\"iris\">\n",
       "    <td class=\"iris-word-cell iris-subheading-cell\">\tlongitude</td>\n",
       "    <td class=\"iris-inclusion-cell\">-</td>\n",
       "    <td class=\"iris-inclusion-cell\">x</td>\n",
       "    <td class=\"iris-inclusion-cell\">x</td>\n",
       "</tr>\n",
       "<tr class=\"iris\">\n",
       "    <td class=\"iris-word-cell iris-subheading-cell\">\tprojection_x_coordinate</td>\n",
       "    <td class=\"iris-inclusion-cell\">-</td>\n",
       "    <td class=\"iris-inclusion-cell\">-</td>\n",
       "    <td class=\"iris-inclusion-cell\">x</td>\n",
       "</tr>\n",
       "<tr class=\"iris\">\n",
       "    <td class=\"iris-word-cell iris-subheading-cell\">\tx</td>\n",
       "    <td class=\"iris-inclusion-cell\">-</td>\n",
       "    <td class=\"iris-inclusion-cell\">-</td>\n",
       "    <td class=\"iris-inclusion-cell\">x</td>\n",
       "</tr>\n",
       "<tr class=\"iris\">\n",
       "    <td class=\"iris-title iris-word-cell\">Attributes</td>\n",
       "    <td class=\"iris-title\"></td>\n",
       "    <td class=\"iris-title\"></td>\n",
       "    <td class=\"iris-title\"></td>\n",
       "</tr>\n",
       "<tr class=\"iris\">\n",
       "    <td class=\"iris-word-cell iris-subheading-cell\">\tConventions</td>\n",
       "    <td class=\"iris-word-cell\" colspan=\"3\">CF-1.5</td>\n",
       "</tr>\n",
       "</table>\n",
       "        "
      ],
      "text/plain": [
       "<iris 'Cube' of surface_precipitation_average / (mm h-1) (time: 47; south_north: 198; west_east: 198)>"
      ]
     },
     "metadata": {},
     "output_type": "display_data"
    }
   ],
   "source": [
    "#display information about the iris cube containing the surface precipitation data:\n",
    "display(Precip)"
   ]
  },
  {
   "cell_type": "code",
   "execution_count": 9,
   "metadata": {},
   "outputs": [],
   "source": [
    "#Set up directory to save output and plots:\n",
    "savedir='Save'\n",
    "if not os.path.exists(savedir):\n",
    "    os.makedirs(savedir)\n",
    "plot_dir=\"Plot\"\n",
    "if not os.path.exists(plot_dir):\n",
    "    os.makedirs(plot_dir)"
   ]
  },
  {
   "cell_type": "markdown",
   "metadata": {},
   "source": [
    "**Feature detection:**\n",
    "\n",
    "Feature detection is perfomed based on surface precipitation field and a range of thresholds"
   ]
  },
  {
   "cell_type": "code",
   "execution_count": 10,
   "metadata": {},
   "outputs": [],
   "source": [
    "# Dictionary containing keyword options (could also be directly given to the function)\n",
    "parameters_features={}\n",
    "parameters_features['position_threshold']='weighted_diff'\n",
    "parameters_features['sigma_threshold']=0.5\n",
    "parameters_features['min_num']=3\n",
    "parameters_features['min_distance']=0\n",
    "parameters_features['sigma_threshold']=1\n",
    "parameters_features['threshold']=[1,2,3,4,5,10,15] #mm/h\n",
    "parameters_features['n_erosion_threshold']=0\n",
    "parameters_features['n_min_threshold']=3"
   ]
  },
  {
   "cell_type": "code",
   "execution_count": 11,
   "metadata": {},
   "outputs": [],
   "source": [
    "# get temporal and spation resolution of the data\n",
    "dxy,dt=tobac.get_spacings(Precip)"
   ]
  },
  {
   "cell_type": "code",
   "execution_count": 12,
   "metadata": {},
   "outputs": [
    {
     "name": "stdout",
     "output_type": "stream",
     "text": [
      "starting feature detection based on multiple thresholds\n",
      "feature detection done\n",
      "features saved\n"
     ]
    }
   ],
   "source": [
    "# Feature detection based on based on surface precipitation field and a range of thresholds\n",
    "print('starting feature detection based on multiple thresholds')\n",
    "Features=tobac.feature_detection_multithreshold(Precip,dxy,**parameters_features)\n",
    "print('feature detection done')\n",
    "Features.to_hdf(os.path.join(savedir,'Features.h5'),'table')\n",
    "print('features saved')"
   ]
  },
  {
   "cell_type": "markdown",
   "metadata": {},
   "source": [
    "**Segmentation:**\n",
    "\n",
    "Segmentation is performed based on a watershedding and a threshold value:"
   ]
  },
  {
   "cell_type": "code",
   "execution_count": 13,
   "metadata": {},
   "outputs": [],
   "source": [
    "# Dictionary containing keyword arguments for segmentation step:\n",
    "parameters_segmentation={}\n",
    "parameters_segmentation['method']='watershed'\n",
    "parameters_segmentation['threshold']=1  # mm/h mixing ratio"
   ]
  },
  {
   "cell_type": "code",
   "execution_count": 14,
   "metadata": {},
   "outputs": [
    {
     "name": "stdout",
     "output_type": "stream",
     "text": [
      "Starting segmentation based on surface precipitation\n",
      "segmentation based on surface precipitation performed, start saving results to files\n",
      "segmentation surface precipitation performed and saved\n"
     ]
    }
   ],
   "source": [
    "# Perform Segmentation and save resulting mask to NetCDF file:\n",
    "print('Starting segmentation based on surface precipitation')\n",
    "Mask,Features_Precip=tobac.segmentation_2D(Features,Precip,dxy,**parameters_segmentation)\n",
    "print('segmentation based on surface precipitation performed, start saving results to files')\n",
    "iris.save([Mask],os.path.join(savedir,'Mask_Segmentation_precip.nc'),zlib=True,complevel=4)                \n",
    "Features_Precip.to_hdf(os.path.join(savedir,'Features_Precip.h5'),'table')\n",
    "print('segmentation surface precipitation performed and saved')\n"
   ]
  },
  {
   "cell_type": "markdown",
   "metadata": {},
   "source": [
    "**Trajectory linking:**\n",
    "\n",
    "Trajectory linking is performed using the trackpy library (http://soft-matter.github.io/trackpy). This takes the feature positions determined in the feature detection step into account but does not include information on the shape of the identified objects."
   ]
  },
  {
   "cell_type": "code",
   "execution_count": 15,
   "metadata": {},
   "outputs": [],
   "source": [
    "# Dictionary containing keyword arguments for the linking step:\n",
    "parameters_linking={}\n",
    "parameters_linking['method_linking']='predict'\n",
    "parameters_linking['adaptive_stop']=0.2\n",
    "parameters_linking['adaptive_step']=0.95\n",
    "parameters_linking['extrapolate']=0\n",
    "parameters_linking['order']=1\n",
    "parameters_linking['subnetwork_size']=100\n",
    "parameters_linking['memory']=0\n",
    "parameters_linking['time_cell_min']=5*60\n",
    "parameters_linking['method_linking']='predict'\n",
    "parameters_linking['v_max']=10\n",
    "parameters_linking['d_min']=2000\n"
   ]
  },
  {
   "cell_type": "code",
   "execution_count": 16,
   "metadata": {},
   "outputs": [
    {
     "name": "stdout",
     "output_type": "stream",
     "text": [
      "Frame 46: 18 trajectories present.\n"
     ]
    }
   ],
   "source": [
    "# Perform trajectory linking using trackpy and save the resulting DataFrame:\n",
    "Track=tobac.linking_trackpy(Features,Precip,dt=dt,dxy=dxy,**parameters_linking)\n",
    "Track.to_hdf(os.path.join(savedir,'Track.h5'),'table')\n"
   ]
  },
  {
   "cell_type": "markdown",
   "metadata": {},
   "source": [
    "**Visualistation:**\n",
    "\n",
    "    "
   ]
  },
  {
   "cell_type": "code",
   "execution_count": 17,
   "metadata": {},
   "outputs": [],
   "source": [
    "# Set extent for maps plotted in the following cells ( in the form [lon_min,lon_max,lat_min,lat_max])\n",
    "axis_extent=[-95,-93.8,29.5,30.6]        "
   ]
  },
  {
   "cell_type": "code",
   "execution_count": 18,
   "metadata": {},
   "outputs": [
    {
     "data": {
      "image/png": "[encoded data removed]",
      "text/plain": [
       "<Figure size 720x720 with 1 Axes>"
      ]
     },
     "metadata": {
      "needs_background": "light"
     },
     "output_type": "display_data"
    }
   ],
   "source": [
    "# Plot map with all individual tracks:\n",
    "import cartopy.crs as ccrs\n",
    "fig_map,ax_map=plt.subplots(figsize=(10,10),subplot_kw={'projection': ccrs.PlateCarree()})\n",
    "ax_map=tobac.map_tracks(Track,axis_extent=axis_extent,axes=ax_map)"
   ]
  },
  {
   "cell_type": "code",
   "execution_count": null,
   "metadata": {},
   "outputs": [],
   "source": [
    "# Create animation showing tracked cells with outline of precipitation features and the and surface precipitation as a background field:\n",
    "animation_tobac=tobac.animation_mask_field(track=Track,features=Features,field=Precip,mask=Mask,\n",
    "                                          axis_extent=axis_extent,#figsize=figsize,orientation_colorbar='horizontal',pad_colorbar=0.2,\n",
    "                                          vmin=0,vmax=60,extend='both',cmap='Blues',\n",
    "                                          interval=500,figsize=(10,10),\n",
    "                                          plot_outline=True,plot_marker=True,marker_track='x',plot_number=True,plot_features=True)"
   ]
  },
  {
   "cell_type": "code",
   "execution_count": null,
   "metadata": {},
   "outputs": [],
   "source": [
    "# Display animation:\n",
    "from IPython.display import HTML, Image, display\n",
    "HTML(animation_tobac.to_html5_video())"
   ]
  },
  {
   "cell_type": "code",
   "execution_count": null,
   "metadata": {},
   "outputs": [],
   "source": [
    "# # Save animation to file\n",
    "# savefile_animation=os.path.join(plot_dir,'Animation.mp4')\n",
    "# animation_tobac.save(savefile_animation,dpi=200)\n",
    "# print(f'animation saved to {savefile_animation}')"
   ]
  },
  {
   "cell_type": "code",
   "execution_count": 19,
   "metadata": {},
   "outputs": [
    {
     "data": {
      "text/plain": [
       "Text(0,0.5,'counts')"
      ]
     },
     "execution_count": 19,
     "metadata": {},
     "output_type": "execute_result"
    },
    {
     "data": {
      "image/png": "[encoded data removed]",
      "text/plain": [
       "<Figure size 432x288 with 1 Axes>"
      ]
     },
     "metadata": {
      "needs_background": "light"
     },
     "output_type": "display_data"
    }
   ],
   "source": [
    "# Lifetimes of tracked features:\n",
    "fig_lifetime,ax_lifetime=plt.subplots()\n",
    "tobac.plot_lifetime_histogram_bar(Track,axes=ax_lifetime,bin_edges=np.arange(0,120,10),density=False,width_bar=8)\n",
    "ax_lifetime.set_xlabel('lifetime (min)')\n",
    "ax_lifetime.set_ylabel('counts')\n",
    "         "
   ]
  },
  {
   "cell_type": "code",
   "execution_count": null,
   "metadata": {},
   "outputs": [],
   "source": []
  }
 ],
 "metadata": {
  "kernelspec": {
   "display_name": "Python 3",
   "language": "python",
   "name": "python3"
  },
  "language_info": {
   "codemirror_mode": {
    "name": "ipython",
    "version": 3
   },
   "file_extension": ".py",
   "mimetype": "text/x-python",
   "name": "python",
   "nbconvert_exporter": "python",
   "pygments_lexer": "ipython3",
   "version": "3.7.3"
  }
 },
 "nbformat": 4,
 "nbformat_minor": 2
}
