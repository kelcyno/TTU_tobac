{
 "cells": [
  {
   "cell_type": "code",
   "execution_count": null,
   "metadata": {},
   "outputs": [],
   "source": [
    "import numpy as np\n",
    "from matplotlib import pyplot as plt\n",
    "import os\n",
    "import shutil\n",
    "from copy import deepcopy\n",
    "import cartopy.crs as ccrs\n",
    "import shapely\n",
    "import pyart\n",
    "\n",
    "import pandas as pd\n",
    "import glob"
   ]
  },
  {
   "cell_type": "code",
   "execution_count": null,
   "metadata": {},
   "outputs": [],
   "source": [
    "def get_grid(radar):\n",
    "    \"\"\" Returns grid object from radar object. \"\"\"\n",
    "    grid = pyart.map.grid_from_radars(\n",
    "        radar, grid_shape=(31, 1001, 1001),\n",
    "        grid_limits=((0, 15000), (-250000,250000), (-250000, 250000)),\n",
    "        fields=['CZ','DR','KD','RH','VR','W'],\n",
    "        gridding_algo='map_gates_to_grid',\n",
    "        h_factor=0., nb=0.6, bsp=1., min_radius=200.)\n",
    "    return grid"
   ]
  },
  {
   "cell_type": "code",
   "execution_count": null,
   "metadata": {},
   "outputs": [],
   "source": [
    "arq = sorted(glob.glob('/Volumes/Seagate Backup Plus Drive/KNB_TTU/20210629/POLARRIS/polarris0629/VCP12_CfRadial_2021_*.nc'))\n",
    "radar = pyart.io.read_cfradial(arq[0])\n",
    "#fname = arq[0]"
   ]
  },
  {
   "cell_type": "code",
   "execution_count": null,
   "metadata": {
    "scrolled": true,
    "tags": []
   },
   "outputs": [],
   "source": [
    "filenames = []\n",
    "for num, key in enumerate(arq):\n",
    "    print(key)\n",
    "    print('saving grid', num)\n",
    "    radar = pyart.io.read_cfradial(key)\n",
    "    grid = get_grid(radar)\n",
    "    fname = os.path.split(str(key))[1][:-3]\n",
    "    name = os.path.join('grid_' + fname + '.nc')\n",
    "    pyart.io.write_grid(name, grid)\n",
    "    del radar, grid"
   ]
  }
 ],
 "metadata": {
  "kernelspec": {
   "display_name": "Python 3 (ipykernel)",
   "language": "python",
   "name": "python3"
  },
  "language_info": {
   "codemirror_mode": {
    "name": "ipython",
    "version": 3
   },
   "file_extension": ".py",
   "mimetype": "text/x-python",
   "name": "python",
   "nbconvert_exporter": "python",
   "pygments_lexer": "ipython3",
   "version": "3.8.10"
  },
  "varInspector": {
   "cols": {
    "lenName": 16,
    "lenType": 16,
    "lenVar": 40
   },
   "kernels_config": {
    "python": {
     "delete_cmd_postfix": "",
     "delete_cmd_prefix": "del ",
     "library": "var_list.py",
     "varRefreshCmd": "print(var_dic_list())"
    },
    "r": {
     "delete_cmd_postfix": ") ",
     "delete_cmd_prefix": "rm(",
     "library": "var_list.r",
     "varRefreshCmd": "cat(var_dic_list()) "
    }
   },
   "types_to_exclude": [
    "module",
    "function",
    "builtin_function_or_method",
    "instance",
    "_Feature"
   ],
   "window_display": false
  }
 },
 "nbformat": 4,
 "nbformat_minor": 4
}
