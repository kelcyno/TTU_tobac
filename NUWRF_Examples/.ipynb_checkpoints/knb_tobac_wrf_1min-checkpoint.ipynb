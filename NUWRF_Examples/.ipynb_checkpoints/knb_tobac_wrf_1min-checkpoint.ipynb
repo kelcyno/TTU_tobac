{
 "cells": [
  {
   "cell_type": "code",
   "execution_count": 20,
   "id": "f9913c80-d740-48cf-8b13-361ce2d8d6b3",
   "metadata": {},
   "outputs": [],
   "source": [
    "# Import libraries:\n",
    "import xarray\n",
    "import numpy as np\n",
    "import pandas as pd\n",
    "import os\n",
    "#from six.moves import urllib\n",
    "from glob import glob\n",
    "import matplotlib.pyplot as plt\n",
    "import matplotlib  as mpl \n",
    "import pickle\n",
    "import pyart\n",
    "import math\n",
    "from pandas.core.common import flatten\n",
    "from datetime import datetime\n",
    "%matplotlib inline\n",
    "#%matplotlib widget\n",
    "from datetime import datetime\n",
    "from netCDF4 import Dataset\n",
    "\n",
    "from IPython.core.interactiveshell import InteractiveShell\n",
    "InteractiveShell.ast_node_interactivity = \"all\""
   ]
  },
  {
   "cell_type": "code",
   "execution_count": 3,
   "id": "f2fc8a33-c88b-4ea1-ace6-ff1664821964",
   "metadata": {},
   "outputs": [],
   "source": [
    "# Import tobac itself:\n",
    "import tobac\n",
    "#Disable a couple of warnings:\n",
    "import warnings\n",
    "warnings.filterwarnings('ignore', category=UserWarning, append=True)\n",
    "warnings.filterwarnings('ignore', category=RuntimeWarning, append=True)\n",
    "warnings.filterwarnings('ignore', category=FutureWarning, append=True)\n",
    "warnings.filterwarnings('ignore',category=pd.io.pytables.PerformanceWarning)"
   ]
  },
  {
   "cell_type": "code",
   "execution_count": 4,
   "id": "ad72df1e-6e3a-426a-a21e-11ae10fb6bd0",
   "metadata": {},
   "outputs": [],
   "source": [
    "drop_list = ['name_polarris','freq_polarris','lat_radar','lon_radar','elev_radar','coverage_radar','kdp01',\n",
    "'rhohv01','vdop01','vrad01','elev01','vang01','hgt','zdr01']"
   ]
  },
  {
   "cell_type": "code",
   "execution_count": 5,
   "id": "8e2d8fa5-56a0-4da6-b679-d68cc02eab58",
   "metadata": {},
   "outputs": [],
   "source": [
    "path = \"/Volumes/Seagate Backup Plus Drive/KNB_TTU/NUWRF/1min_nuwrf_arr_2013-06-19_21_00_00.nc\"\n",
    "data = xarray.open_dataset(path, drop_variables = drop_list)"
   ]
  },
  {
   "cell_type": "code",
   "execution_count": 6,
   "id": "f1efbc42-7afc-405c-8490-edf351f66a5a",
   "metadata": {},
   "outputs": [],
   "source": [
    "grid_lat = data['latitude']"
   ]
  },
  {
   "cell_type": "code",
   "execution_count": 7,
   "id": "fea90293-cbbb-47c2-bb64-69501162cdda",
   "metadata": {},
   "outputs": [],
   "source": [
    "grid_lon = data['longitude']"
   ]
  },
  {
   "cell_type": "code",
   "execution_count": null,
   "id": "a84728ef-9dcd-438d-9e6b-5d6f07d854ac",
   "metadata": {},
   "outputs": [],
   "source": []
  },
  {
   "cell_type": "code",
   "execution_count": 8,
   "id": "dd99dc6f-06e7-4250-bfa1-c60360730096",
   "metadata": {
    "scrolled": true,
    "tags": []
   },
   "outputs": [
    {
     "name": "stdout",
     "output_type": "stream",
     "text": [
      "/Volumes/Seagate Backup Plus Drive/KNB_TTU/NUWRF/1min_nuwrf_arr_2013-06-19_21_00_00.nc\n",
      "/Volumes/Seagate Backup Plus Drive/KNB_TTU/NUWRF/1min_nuwrf_arr_2013-06-19_21_01_00.nc\n",
      "/Volumes/Seagate Backup Plus Drive/KNB_TTU/NUWRF/1min_nuwrf_arr_2013-06-19_21_02_00.nc\n",
      "/Volumes/Seagate Backup Plus Drive/KNB_TTU/NUWRF/1min_nuwrf_arr_2013-06-19_21_03_00.nc\n",
      "/Volumes/Seagate Backup Plus Drive/KNB_TTU/NUWRF/1min_nuwrf_arr_2013-06-19_21_04_00.nc\n",
      "/Volumes/Seagate Backup Plus Drive/KNB_TTU/NUWRF/1min_nuwrf_arr_2013-06-19_21_05_00.nc\n",
      "/Volumes/Seagate Backup Plus Drive/KNB_TTU/NUWRF/1min_nuwrf_arr_2013-06-19_21_06_00.nc\n",
      "/Volumes/Seagate Backup Plus Drive/KNB_TTU/NUWRF/1min_nuwrf_arr_2013-06-19_21_07_00.nc\n",
      "/Volumes/Seagate Backup Plus Drive/KNB_TTU/NUWRF/1min_nuwrf_arr_2013-06-19_21_08_00.nc\n",
      "/Volumes/Seagate Backup Plus Drive/KNB_TTU/NUWRF/1min_nuwrf_arr_2013-06-19_21_09_00.nc\n",
      "/Volumes/Seagate Backup Plus Drive/KNB_TTU/NUWRF/1min_nuwrf_arr_2013-06-19_21_10_00.nc\n",
      "/Volumes/Seagate Backup Plus Drive/KNB_TTU/NUWRF/1min_nuwrf_arr_2013-06-19_21_11_00.nc\n",
      "/Volumes/Seagate Backup Plus Drive/KNB_TTU/NUWRF/1min_nuwrf_arr_2013-06-19_21_12_00.nc\n",
      "/Volumes/Seagate Backup Plus Drive/KNB_TTU/NUWRF/1min_nuwrf_arr_2013-06-19_21_13_00.nc\n",
      "/Volumes/Seagate Backup Plus Drive/KNB_TTU/NUWRF/1min_nuwrf_arr_2013-06-19_21_14_00.nc\n",
      "/Volumes/Seagate Backup Plus Drive/KNB_TTU/NUWRF/1min_nuwrf_arr_2013-06-19_21_15_00.nc\n",
      "/Volumes/Seagate Backup Plus Drive/KNB_TTU/NUWRF/1min_nuwrf_arr_2013-06-19_21_16_00.nc\n",
      "/Volumes/Seagate Backup Plus Drive/KNB_TTU/NUWRF/1min_nuwrf_arr_2013-06-19_21_17_00.nc\n",
      "/Volumes/Seagate Backup Plus Drive/KNB_TTU/NUWRF/1min_nuwrf_arr_2013-06-19_21_18_00.nc\n",
      "/Volumes/Seagate Backup Plus Drive/KNB_TTU/NUWRF/1min_nuwrf_arr_2013-06-19_21_19_00.nc\n",
      "/Volumes/Seagate Backup Plus Drive/KNB_TTU/NUWRF/1min_nuwrf_arr_2013-06-19_21_20_00.nc\n",
      "/Volumes/Seagate Backup Plus Drive/KNB_TTU/NUWRF/1min_nuwrf_arr_2013-06-19_21_21_00.nc\n",
      "/Volumes/Seagate Backup Plus Drive/KNB_TTU/NUWRF/1min_nuwrf_arr_2013-06-19_21_22_00.nc\n",
      "/Volumes/Seagate Backup Plus Drive/KNB_TTU/NUWRF/1min_nuwrf_arr_2013-06-19_21_23_00.nc\n",
      "/Volumes/Seagate Backup Plus Drive/KNB_TTU/NUWRF/1min_nuwrf_arr_2013-06-19_21_24_00.nc\n",
      "/Volumes/Seagate Backup Plus Drive/KNB_TTU/NUWRF/1min_nuwrf_arr_2013-06-19_21_25_00.nc\n",
      "/Volumes/Seagate Backup Plus Drive/KNB_TTU/NUWRF/1min_nuwrf_arr_2013-06-19_21_26_00.nc\n",
      "/Volumes/Seagate Backup Plus Drive/KNB_TTU/NUWRF/1min_nuwrf_arr_2013-06-19_21_27_00.nc\n",
      "/Volumes/Seagate Backup Plus Drive/KNB_TTU/NUWRF/1min_nuwrf_arr_2013-06-19_21_28_00.nc\n",
      "/Volumes/Seagate Backup Plus Drive/KNB_TTU/NUWRF/1min_nuwrf_arr_2013-06-19_21_29_00.nc\n",
      "/Volumes/Seagate Backup Plus Drive/KNB_TTU/NUWRF/1min_nuwrf_arr_2013-06-19_21_30_00.nc\n",
      "/Volumes/Seagate Backup Plus Drive/KNB_TTU/NUWRF/1min_nuwrf_arr_2013-06-19_21_31_00.nc\n",
      "/Volumes/Seagate Backup Plus Drive/KNB_TTU/NUWRF/1min_nuwrf_arr_2013-06-19_21_32_00.nc\n",
      "/Volumes/Seagate Backup Plus Drive/KNB_TTU/NUWRF/1min_nuwrf_arr_2013-06-19_21_33_00.nc\n",
      "/Volumes/Seagate Backup Plus Drive/KNB_TTU/NUWRF/1min_nuwrf_arr_2013-06-19_21_34_00.nc\n",
      "/Volumes/Seagate Backup Plus Drive/KNB_TTU/NUWRF/1min_nuwrf_arr_2013-06-19_21_35_00.nc\n",
      "/Volumes/Seagate Backup Plus Drive/KNB_TTU/NUWRF/1min_nuwrf_arr_2013-06-19_21_36_00.nc\n",
      "/Volumes/Seagate Backup Plus Drive/KNB_TTU/NUWRF/1min_nuwrf_arr_2013-06-19_21_37_00.nc\n",
      "/Volumes/Seagate Backup Plus Drive/KNB_TTU/NUWRF/1min_nuwrf_arr_2013-06-19_21_38_00.nc\n",
      "/Volumes/Seagate Backup Plus Drive/KNB_TTU/NUWRF/1min_nuwrf_arr_2013-06-19_21_39_00.nc\n",
      "/Volumes/Seagate Backup Plus Drive/KNB_TTU/NUWRF/1min_nuwrf_arr_2013-06-19_21_40_00.nc\n",
      "/Volumes/Seagate Backup Plus Drive/KNB_TTU/NUWRF/1min_nuwrf_arr_2013-06-19_21_41_00.nc\n",
      "/Volumes/Seagate Backup Plus Drive/KNB_TTU/NUWRF/1min_nuwrf_arr_2013-06-19_21_42_00.nc\n",
      "/Volumes/Seagate Backup Plus Drive/KNB_TTU/NUWRF/1min_nuwrf_arr_2013-06-19_21_43_00.nc\n",
      "/Volumes/Seagate Backup Plus Drive/KNB_TTU/NUWRF/1min_nuwrf_arr_2013-06-19_21_44_00.nc\n",
      "/Volumes/Seagate Backup Plus Drive/KNB_TTU/NUWRF/1min_nuwrf_arr_2013-06-19_21_45_00.nc\n",
      "/Volumes/Seagate Backup Plus Drive/KNB_TTU/NUWRF/1min_nuwrf_arr_2013-06-19_21_46_00.nc\n",
      "/Volumes/Seagate Backup Plus Drive/KNB_TTU/NUWRF/1min_nuwrf_arr_2013-06-19_21_47_00.nc\n",
      "/Volumes/Seagate Backup Plus Drive/KNB_TTU/NUWRF/1min_nuwrf_arr_2013-06-19_21_48_00.nc\n",
      "/Volumes/Seagate Backup Plus Drive/KNB_TTU/NUWRF/1min_nuwrf_arr_2013-06-19_21_49_00.nc\n",
      "/Volumes/Seagate Backup Plus Drive/KNB_TTU/NUWRF/1min_nuwrf_arr_2013-06-19_21_50_00.nc\n",
      "/Volumes/Seagate Backup Plus Drive/KNB_TTU/NUWRF/1min_nuwrf_arr_2013-06-19_21_51_00.nc\n",
      "/Volumes/Seagate Backup Plus Drive/KNB_TTU/NUWRF/1min_nuwrf_arr_2013-06-19_21_52_00.nc\n",
      "/Volumes/Seagate Backup Plus Drive/KNB_TTU/NUWRF/1min_nuwrf_arr_2013-06-19_21_53_00.nc\n",
      "/Volumes/Seagate Backup Plus Drive/KNB_TTU/NUWRF/1min_nuwrf_arr_2013-06-19_21_54_00.nc\n",
      "/Volumes/Seagate Backup Plus Drive/KNB_TTU/NUWRF/1min_nuwrf_arr_2013-06-19_21_55_00.nc\n",
      "/Volumes/Seagate Backup Plus Drive/KNB_TTU/NUWRF/1min_nuwrf_arr_2013-06-19_21_56_00.nc\n",
      "/Volumes/Seagate Backup Plus Drive/KNB_TTU/NUWRF/1min_nuwrf_arr_2013-06-19_21_57_00.nc\n",
      "/Volumes/Seagate Backup Plus Drive/KNB_TTU/NUWRF/1min_nuwrf_arr_2013-06-19_21_58_00.nc\n",
      "/Volumes/Seagate Backup Plus Drive/KNB_TTU/NUWRF/1min_nuwrf_arr_2013-06-19_21_59_00.nc\n",
      "/Volumes/Seagate Backup Plus Drive/KNB_TTU/NUWRF/1min_nuwrf_arr_2013-06-19_22_00_00.nc\n",
      "/Volumes/Seagate Backup Plus Drive/KNB_TTU/NUWRF/1min_nuwrf_arr_2013-06-19_22_01_00.nc\n",
      "/Volumes/Seagate Backup Plus Drive/KNB_TTU/NUWRF/1min_nuwrf_arr_2013-06-19_22_02_00.nc\n",
      "/Volumes/Seagate Backup Plus Drive/KNB_TTU/NUWRF/1min_nuwrf_arr_2013-06-19_22_03_00.nc\n",
      "/Volumes/Seagate Backup Plus Drive/KNB_TTU/NUWRF/1min_nuwrf_arr_2013-06-19_22_04_00.nc\n",
      "/Volumes/Seagate Backup Plus Drive/KNB_TTU/NUWRF/1min_nuwrf_arr_2013-06-19_22_05_00.nc\n",
      "/Volumes/Seagate Backup Plus Drive/KNB_TTU/NUWRF/1min_nuwrf_arr_2013-06-19_22_06_00.nc\n",
      "/Volumes/Seagate Backup Plus Drive/KNB_TTU/NUWRF/1min_nuwrf_arr_2013-06-19_22_07_00.nc\n",
      "/Volumes/Seagate Backup Plus Drive/KNB_TTU/NUWRF/1min_nuwrf_arr_2013-06-19_22_08_00.nc\n",
      "/Volumes/Seagate Backup Plus Drive/KNB_TTU/NUWRF/1min_nuwrf_arr_2013-06-19_22_09_00.nc\n",
      "/Volumes/Seagate Backup Plus Drive/KNB_TTU/NUWRF/1min_nuwrf_arr_2013-06-19_22_10_00.nc\n",
      "/Volumes/Seagate Backup Plus Drive/KNB_TTU/NUWRF/1min_nuwrf_arr_2013-06-19_22_11_00.nc\n",
      "/Volumes/Seagate Backup Plus Drive/KNB_TTU/NUWRF/1min_nuwrf_arr_2013-06-19_22_12_00.nc\n",
      "/Volumes/Seagate Backup Plus Drive/KNB_TTU/NUWRF/1min_nuwrf_arr_2013-06-19_22_13_00.nc\n",
      "/Volumes/Seagate Backup Plus Drive/KNB_TTU/NUWRF/1min_nuwrf_arr_2013-06-19_22_14_00.nc\n",
      "/Volumes/Seagate Backup Plus Drive/KNB_TTU/NUWRF/1min_nuwrf_arr_2013-06-19_22_15_00.nc\n",
      "/Volumes/Seagate Backup Plus Drive/KNB_TTU/NUWRF/1min_nuwrf_arr_2013-06-19_22_16_00.nc\n",
      "/Volumes/Seagate Backup Plus Drive/KNB_TTU/NUWRF/1min_nuwrf_arr_2013-06-19_22_17_00.nc\n",
      "/Volumes/Seagate Backup Plus Drive/KNB_TTU/NUWRF/1min_nuwrf_arr_2013-06-19_22_18_00.nc\n",
      "/Volumes/Seagate Backup Plus Drive/KNB_TTU/NUWRF/1min_nuwrf_arr_2013-06-19_22_19_00.nc\n",
      "/Volumes/Seagate Backup Plus Drive/KNB_TTU/NUWRF/1min_nuwrf_arr_2013-06-19_22_20_00.nc\n",
      "/Volumes/Seagate Backup Plus Drive/KNB_TTU/NUWRF/1min_nuwrf_arr_2013-06-19_22_21_00.nc\n",
      "/Volumes/Seagate Backup Plus Drive/KNB_TTU/NUWRF/1min_nuwrf_arr_2013-06-19_22_22_00.nc\n",
      "/Volumes/Seagate Backup Plus Drive/KNB_TTU/NUWRF/1min_nuwrf_arr_2013-06-19_22_23_00.nc\n",
      "/Volumes/Seagate Backup Plus Drive/KNB_TTU/NUWRF/1min_nuwrf_arr_2013-06-19_22_24_00.nc\n",
      "/Volumes/Seagate Backup Plus Drive/KNB_TTU/NUWRF/1min_nuwrf_arr_2013-06-19_22_25_00.nc\n",
      "/Volumes/Seagate Backup Plus Drive/KNB_TTU/NUWRF/1min_nuwrf_arr_2013-06-19_22_26_00.nc\n",
      "/Volumes/Seagate Backup Plus Drive/KNB_TTU/NUWRF/1min_nuwrf_arr_2013-06-19_22_27_00.nc\n",
      "/Volumes/Seagate Backup Plus Drive/KNB_TTU/NUWRF/1min_nuwrf_arr_2013-06-19_22_28_00.nc\n",
      "/Volumes/Seagate Backup Plus Drive/KNB_TTU/NUWRF/1min_nuwrf_arr_2013-06-19_22_29_00.nc\n",
      "/Volumes/Seagate Backup Plus Drive/KNB_TTU/NUWRF/1min_nuwrf_arr_2013-06-19_22_30_00.nc\n",
      "/Volumes/Seagate Backup Plus Drive/KNB_TTU/NUWRF/1min_nuwrf_arr_2013-06-19_22_31_00.nc\n",
      "/Volumes/Seagate Backup Plus Drive/KNB_TTU/NUWRF/1min_nuwrf_arr_2013-06-19_22_32_00.nc\n",
      "/Volumes/Seagate Backup Plus Drive/KNB_TTU/NUWRF/1min_nuwrf_arr_2013-06-19_22_33_00.nc\n",
      "/Volumes/Seagate Backup Plus Drive/KNB_TTU/NUWRF/1min_nuwrf_arr_2013-06-19_22_34_00.nc\n",
      "/Volumes/Seagate Backup Plus Drive/KNB_TTU/NUWRF/1min_nuwrf_arr_2013-06-19_22_35_00.nc\n",
      "/Volumes/Seagate Backup Plus Drive/KNB_TTU/NUWRF/1min_nuwrf_arr_2013-06-19_22_36_00.nc\n",
      "/Volumes/Seagate Backup Plus Drive/KNB_TTU/NUWRF/1min_nuwrf_arr_2013-06-19_22_37_00.nc\n",
      "/Volumes/Seagate Backup Plus Drive/KNB_TTU/NUWRF/1min_nuwrf_arr_2013-06-19_22_38_00.nc\n",
      "/Volumes/Seagate Backup Plus Drive/KNB_TTU/NUWRF/1min_nuwrf_arr_2013-06-19_22_39_00.nc\n",
      "/Volumes/Seagate Backup Plus Drive/KNB_TTU/NUWRF/1min_nuwrf_arr_2013-06-19_22_40_00.nc\n",
      "/Volumes/Seagate Backup Plus Drive/KNB_TTU/NUWRF/1min_nuwrf_arr_2013-06-19_22_41_00.nc\n",
      "/Volumes/Seagate Backup Plus Drive/KNB_TTU/NUWRF/1min_nuwrf_arr_2013-06-19_22_42_00.nc\n",
      "/Volumes/Seagate Backup Plus Drive/KNB_TTU/NUWRF/1min_nuwrf_arr_2013-06-19_22_43_00.nc\n",
      "/Volumes/Seagate Backup Plus Drive/KNB_TTU/NUWRF/1min_nuwrf_arr_2013-06-19_22_44_00.nc\n",
      "/Volumes/Seagate Backup Plus Drive/KNB_TTU/NUWRF/1min_nuwrf_arr_2013-06-19_22_45_00.nc\n",
      "/Volumes/Seagate Backup Plus Drive/KNB_TTU/NUWRF/1min_nuwrf_arr_2013-06-19_22_46_00.nc\n",
      "/Volumes/Seagate Backup Plus Drive/KNB_TTU/NUWRF/1min_nuwrf_arr_2013-06-19_22_47_00.nc\n",
      "/Volumes/Seagate Backup Plus Drive/KNB_TTU/NUWRF/1min_nuwrf_arr_2013-06-19_22_48_00.nc\n",
      "/Volumes/Seagate Backup Plus Drive/KNB_TTU/NUWRF/1min_nuwrf_arr_2013-06-19_22_49_00.nc\n",
      "/Volumes/Seagate Backup Plus Drive/KNB_TTU/NUWRF/1min_nuwrf_arr_2013-06-19_22_50_00.nc\n",
      "/Volumes/Seagate Backup Plus Drive/KNB_TTU/NUWRF/1min_nuwrf_arr_2013-06-19_22_51_00.nc\n",
      "/Volumes/Seagate Backup Plus Drive/KNB_TTU/NUWRF/1min_nuwrf_arr_2013-06-19_22_52_00.nc\n",
      "/Volumes/Seagate Backup Plus Drive/KNB_TTU/NUWRF/1min_nuwrf_arr_2013-06-19_22_53_00.nc\n",
      "/Volumes/Seagate Backup Plus Drive/KNB_TTU/NUWRF/1min_nuwrf_arr_2013-06-19_22_54_00.nc\n",
      "/Volumes/Seagate Backup Plus Drive/KNB_TTU/NUWRF/1min_nuwrf_arr_2013-06-19_22_55_00.nc\n",
      "/Volumes/Seagate Backup Plus Drive/KNB_TTU/NUWRF/1min_nuwrf_arr_2013-06-19_22_56_00.nc\n",
      "/Volumes/Seagate Backup Plus Drive/KNB_TTU/NUWRF/1min_nuwrf_arr_2013-06-19_22_57_00.nc\n",
      "/Volumes/Seagate Backup Plus Drive/KNB_TTU/NUWRF/1min_nuwrf_arr_2013-06-19_22_58_00.nc\n",
      "/Volumes/Seagate Backup Plus Drive/KNB_TTU/NUWRF/1min_nuwrf_arr_2013-06-19_22_59_00.nc\n",
      "/Volumes/Seagate Backup Plus Drive/KNB_TTU/NUWRF/1min_nuwrf_arr_2013-06-19_23_01_00.nc\n",
      "/Volumes/Seagate Backup Plus Drive/KNB_TTU/NUWRF/1min_nuwrf_arr_2013-06-19_23_02_00.nc\n",
      "/Volumes/Seagate Backup Plus Drive/KNB_TTU/NUWRF/1min_nuwrf_arr_2013-06-19_23_03_00.nc\n",
      "/Volumes/Seagate Backup Plus Drive/KNB_TTU/NUWRF/1min_nuwrf_arr_2013-06-19_23_04_00.nc\n",
      "/Volumes/Seagate Backup Plus Drive/KNB_TTU/NUWRF/1min_nuwrf_arr_2013-06-19_23_05_00.nc\n",
      "/Volumes/Seagate Backup Plus Drive/KNB_TTU/NUWRF/1min_nuwrf_arr_2013-06-19_23_06_00.nc\n",
      "/Volumes/Seagate Backup Plus Drive/KNB_TTU/NUWRF/1min_nuwrf_arr_2013-06-19_23_07_00.nc\n",
      "/Volumes/Seagate Backup Plus Drive/KNB_TTU/NUWRF/1min_nuwrf_arr_2013-06-19_23_08_00.nc\n",
      "/Volumes/Seagate Backup Plus Drive/KNB_TTU/NUWRF/1min_nuwrf_arr_2013-06-19_23_09_00.nc\n",
      "/Volumes/Seagate Backup Plus Drive/KNB_TTU/NUWRF/1min_nuwrf_arr_2013-06-19_23_10_00.nc\n",
      "/Volumes/Seagate Backup Plus Drive/KNB_TTU/NUWRF/1min_nuwrf_arr_2013-06-19_23_11_00.nc\n",
      "/Volumes/Seagate Backup Plus Drive/KNB_TTU/NUWRF/1min_nuwrf_arr_2013-06-19_23_12_00.nc\n",
      "/Volumes/Seagate Backup Plus Drive/KNB_TTU/NUWRF/1min_nuwrf_arr_2013-06-19_23_13_00.nc\n",
      "/Volumes/Seagate Backup Plus Drive/KNB_TTU/NUWRF/1min_nuwrf_arr_2013-06-19_23_14_00.nc\n",
      "/Volumes/Seagate Backup Plus Drive/KNB_TTU/NUWRF/1min_nuwrf_arr_2013-06-19_23_15_00.nc\n",
      "/Volumes/Seagate Backup Plus Drive/KNB_TTU/NUWRF/1min_nuwrf_arr_2013-06-19_23_16_00.nc\n",
      "/Volumes/Seagate Backup Plus Drive/KNB_TTU/NUWRF/1min_nuwrf_arr_2013-06-19_23_17_00.nc\n",
      "/Volumes/Seagate Backup Plus Drive/KNB_TTU/NUWRF/1min_nuwrf_arr_2013-06-19_23_18_00.nc\n",
      "/Volumes/Seagate Backup Plus Drive/KNB_TTU/NUWRF/1min_nuwrf_arr_2013-06-19_23_19_00.nc\n",
      "/Volumes/Seagate Backup Plus Drive/KNB_TTU/NUWRF/1min_nuwrf_arr_2013-06-19_23_20_00.nc\n",
      "/Volumes/Seagate Backup Plus Drive/KNB_TTU/NUWRF/1min_nuwrf_arr_2013-06-19_23_21_00.nc\n",
      "/Volumes/Seagate Backup Plus Drive/KNB_TTU/NUWRF/1min_nuwrf_arr_2013-06-19_23_22_00.nc\n",
      "/Volumes/Seagate Backup Plus Drive/KNB_TTU/NUWRF/1min_nuwrf_arr_2013-06-19_23_23_00.nc\n",
      "/Volumes/Seagate Backup Plus Drive/KNB_TTU/NUWRF/1min_nuwrf_arr_2013-06-19_23_24_00.nc\n",
      "/Volumes/Seagate Backup Plus Drive/KNB_TTU/NUWRF/1min_nuwrf_arr_2013-06-19_23_25_00.nc\n",
      "/Volumes/Seagate Backup Plus Drive/KNB_TTU/NUWRF/1min_nuwrf_arr_2013-06-19_23_26_00.nc\n",
      "/Volumes/Seagate Backup Plus Drive/KNB_TTU/NUWRF/1min_nuwrf_arr_2013-06-19_23_27_00.nc\n",
      "/Volumes/Seagate Backup Plus Drive/KNB_TTU/NUWRF/1min_nuwrf_arr_2013-06-19_23_28_00.nc\n",
      "/Volumes/Seagate Backup Plus Drive/KNB_TTU/NUWRF/1min_nuwrf_arr_2013-06-19_23_29_00.nc\n",
      "/Volumes/Seagate Backup Plus Drive/KNB_TTU/NUWRF/1min_nuwrf_arr_2013-06-19_23_30_00.nc\n",
      "/Volumes/Seagate Backup Plus Drive/KNB_TTU/NUWRF/1min_nuwrf_arr_2013-06-19_23_31_00.nc\n",
      "/Volumes/Seagate Backup Plus Drive/KNB_TTU/NUWRF/1min_nuwrf_arr_2013-06-19_23_32_00.nc\n",
      "/Volumes/Seagate Backup Plus Drive/KNB_TTU/NUWRF/1min_nuwrf_arr_2013-06-19_23_33_00.nc\n",
      "/Volumes/Seagate Backup Plus Drive/KNB_TTU/NUWRF/1min_nuwrf_arr_2013-06-19_23_34_00.nc\n",
      "/Volumes/Seagate Backup Plus Drive/KNB_TTU/NUWRF/1min_nuwrf_arr_2013-06-19_23_35_00.nc\n",
      "/Volumes/Seagate Backup Plus Drive/KNB_TTU/NUWRF/1min_nuwrf_arr_2013-06-19_23_36_00.nc\n",
      "/Volumes/Seagate Backup Plus Drive/KNB_TTU/NUWRF/1min_nuwrf_arr_2013-06-19_23_37_00.nc\n",
      "/Volumes/Seagate Backup Plus Drive/KNB_TTU/NUWRF/1min_nuwrf_arr_2013-06-19_23_38_00.nc\n",
      "/Volumes/Seagate Backup Plus Drive/KNB_TTU/NUWRF/1min_nuwrf_arr_2013-06-19_23_39_00.nc\n",
      "/Volumes/Seagate Backup Plus Drive/KNB_TTU/NUWRF/1min_nuwrf_arr_2013-06-19_23_40_00.nc\n",
      "/Volumes/Seagate Backup Plus Drive/KNB_TTU/NUWRF/1min_nuwrf_arr_2013-06-19_23_41_00.nc\n",
      "/Volumes/Seagate Backup Plus Drive/KNB_TTU/NUWRF/1min_nuwrf_arr_2013-06-19_23_42_00.nc\n",
      "/Volumes/Seagate Backup Plus Drive/KNB_TTU/NUWRF/1min_nuwrf_arr_2013-06-19_23_43_00.nc\n",
      "/Volumes/Seagate Backup Plus Drive/KNB_TTU/NUWRF/1min_nuwrf_arr_2013-06-19_23_44_00.nc\n",
      "/Volumes/Seagate Backup Plus Drive/KNB_TTU/NUWRF/1min_nuwrf_arr_2013-06-19_23_45_00.nc\n",
      "/Volumes/Seagate Backup Plus Drive/KNB_TTU/NUWRF/1min_nuwrf_arr_2013-06-19_23_46_00.nc\n",
      "/Volumes/Seagate Backup Plus Drive/KNB_TTU/NUWRF/1min_nuwrf_arr_2013-06-19_23_47_00.nc\n",
      "/Volumes/Seagate Backup Plus Drive/KNB_TTU/NUWRF/1min_nuwrf_arr_2013-06-19_23_48_00.nc\n",
      "/Volumes/Seagate Backup Plus Drive/KNB_TTU/NUWRF/1min_nuwrf_arr_2013-06-19_23_49_00.nc\n",
      "/Volumes/Seagate Backup Plus Drive/KNB_TTU/NUWRF/1min_nuwrf_arr_2013-06-19_23_50_00.nc\n",
      "/Volumes/Seagate Backup Plus Drive/KNB_TTU/NUWRF/1min_nuwrf_arr_2013-06-19_23_51_00.nc\n",
      "/Volumes/Seagate Backup Plus Drive/KNB_TTU/NUWRF/1min_nuwrf_arr_2013-06-19_23_52_00.nc\n",
      "/Volumes/Seagate Backup Plus Drive/KNB_TTU/NUWRF/1min_nuwrf_arr_2013-06-19_23_53_00.nc\n",
      "/Volumes/Seagate Backup Plus Drive/KNB_TTU/NUWRF/1min_nuwrf_arr_2013-06-19_23_54_00.nc\n",
      "/Volumes/Seagate Backup Plus Drive/KNB_TTU/NUWRF/1min_nuwrf_arr_2013-06-19_23_55_00.nc\n",
      "/Volumes/Seagate Backup Plus Drive/KNB_TTU/NUWRF/1min_nuwrf_arr_2013-06-19_23_56_00.nc\n",
      "/Volumes/Seagate Backup Plus Drive/KNB_TTU/NUWRF/1min_nuwrf_arr_2013-06-19_23_57_00.nc\n",
      "/Volumes/Seagate Backup Plus Drive/KNB_TTU/NUWRF/1min_nuwrf_arr_2013-06-19_23_58_00.nc\n",
      "/Volumes/Seagate Backup Plus Drive/KNB_TTU/NUWRF/1min_nuwrf_arr_2013-06-19_23_59_00.nc\n",
      "/Volumes/Seagate Backup Plus Drive/KNB_TTU/NUWRF/1min_nuwrf_arr_2013-06-20_00_00_00.nc\n"
     ]
    }
   ],
   "source": [
    "path = \"/Volumes/Seagate Backup Plus Drive/KNB_TTU/NUWRF/1min_nuwrf_arr_2013-06-*_00.nc\"\n",
    "files = sorted(glob(path))\n",
    "savedir =\"/Volumes/Seagate Backup Plus Drive/KNB_TTU/NUWRF\"\n",
    "for n, i in enumerate(files):\n",
    "    print(i)\n",
    "    #data = xarray.open_dataset(i,drop_variables = drop_list)\n",
    "    if n == 0:\n",
    "        data1 = xarray.open_dataset(i,drop_variables = drop_list)\n",
    "        #ref1 = data1['zhh01']\n",
    "        data2 = xarray.open_dataset(files[n+1],drop_variables = drop_list)\n",
    "        #ref2 = data2['zhh01']\n",
    "        arr = xarray.concat([data1['zhh01'].max(axis=0),data2['zhh01'].max(axis=0)],'time')\n",
    "    else:\n",
    "        \n",
    "        data1 = xarray.open_dataset(i,drop_variables = drop_list)\n",
    "        #ref = data['zhh01']\n",
    "        if n == 6:\n",
    "            refl = data1['zhh01'].max(axis=0)\n",
    "            bad = np.where(refl > 100)\n",
    "            refl[bad] = -999\n",
    "            arr = xarray.concat([arr, refl],'time')\n",
    "        else:\n",
    "            arr = xarray.concat([arr,data1['zhh01'].max(axis=0)],'time') \n",
    "    data1.close()\n",
    "    data2.close()\n",
    "\n",
    "rng = pd.date_range(pd.Timestamp(\"2013-06-19 21:00\"),periods=181, freq='min')\n",
    "arr = arr.assign_coords(time=rng)    \n",
    "#Set up directory to save output and plots:\n",
    "dxy = 0.25\n",
    "dt = 1\n",
    "#del ds\n",
    "savedir='tobac_Save_wrf1min'\n",
    "if not os.path.exists(savedir):\n",
    "    os.makedirs(savedir)\n",
    "\n"
   ]
  },
  {
   "cell_type": "code",
   "execution_count": 9,
   "id": "5590389a-d20c-46e6-80a6-9d15cbb89140",
   "metadata": {},
   "outputs": [],
   "source": [
    "savedir='tobac_Save_wrf1min'\n",
    "if not os.path.exists(savedir):\n",
    "    os.makedirs(savedir)"
   ]
  },
  {
   "cell_type": "code",
   "execution_count": 10,
   "id": "793a9d3e-bbce-4985-b51b-baff52ae49c3",
   "metadata": {},
   "outputs": [],
   "source": [
    "# Dictionary containing keyword options (could also be directly given to the function)\n",
    "parameters_features={}\n",
    "parameters_features['position_threshold']='weighted_diff'\n",
    "parameters_features['sigma_threshold']= 0.5 #0.5 is the default\n",
    "parameters_features['threshold']= 10 \n",
    "#parameters_features['min_num']=0\n",
    "#parameters_features['min_distance']=5 #0 #15\n",
    "#parameters_features['n_erosion_threshold']=0\n",
    "#parameters_features['n_min_threshold']=0"
   ]
  },
  {
   "cell_type": "code",
   "execution_count": 11,
   "id": "3c1decfc-1a8e-44a7-af0e-58cbace04424",
   "metadata": {},
   "outputs": [
    {
     "name": "stderr",
     "output_type": "stream",
     "text": [
      "/Users/kelcy/opt/anaconda3/envs/TTU_KNB/lib/python3.8/site-packages/iris/fileformats/_ff.py:819: DeprecationWarning: `np.float` is a deprecated alias for the builtin `float`. To silence this warning, use `float` by itself. Doing this will not modify any behavior and is safe. If you specifically wanted the numpy scalar type, use `np.float64` here.\n",
      "Deprecated in NumPy 1.20; for more details and guidance: https://numpy.org/devdocs/release/1.20.0-notes.html#deprecations\n",
      "  def _parse_binary_stream(file_like, dtype=np.float, count=-1):\n"
     ]
    },
    {
     "name": "stdout",
     "output_type": "stream",
     "text": [
      "starting feature detection based on multiple thresholds\n"
     ]
    },
    {
     "name": "stderr",
     "output_type": "stream",
     "text": [
      "/Users/kelcy/opt/anaconda3/envs/TTU_KNB/lib/python3.8/site-packages/skimage/morphology/_skeletonize.py:241: DeprecationWarning: `np.bool` is a deprecated alias for the builtin `bool`. To silence this warning, use `bool` by itself. Doing this will not modify any behavior and is safe. If you specifically wanted the numpy scalar type, use `np.bool_` here.\n",
      "Deprecated in NumPy 1.20; for more details and guidance: https://numpy.org/devdocs/release/1.20.0-notes.html#deprecations\n",
      "  0, 1, 1, 0, 0, 1, 0, 0, 0], dtype=np.bool)\n",
      "/Users/kelcy/opt/anaconda3/envs/TTU_KNB/lib/python3.8/site-packages/skimage/morphology/_skeletonize.py:256: DeprecationWarning: `np.bool` is a deprecated alias for the builtin `bool`. To silence this warning, use `bool` by itself. Doing this will not modify any behavior and is safe. If you specifically wanted the numpy scalar type, use `np.bool_` here.\n",
      "Deprecated in NumPy 1.20; for more details and guidance: https://numpy.org/devdocs/release/1.20.0-notes.html#deprecations\n",
      "  0, 0, 0, 0, 0, 0, 0, 0, 0], dtype=np.bool)\n"
     ]
    },
    {
     "name": "stdout",
     "output_type": "stream",
     "text": [
      "feature detection done\n",
      "features saved\n"
     ]
    }
   ],
   "source": [
    "maxrefl_iris=arr.to_iris()\n",
    "# Feature detection based on based on surface precipitation field and a range of thresholds\n",
    "print('starting feature detection based on multiple thresholds')\n",
    "Features_iris=tobac.feature_detection_multithreshold(maxrefl_iris,dxy,**parameters_features)\n",
    "Features=Features_iris.to_xarray()\n",
    "print('feature detection done')\n",
    "Features.to_netcdf(os.path.join(savedir,'Features.nc'))\n",
    "print('features saved')"
   ]
  },
  {
   "cell_type": "code",
   "execution_count": 12,
   "id": "9ad91f32-319d-4553-b2fe-132b174e4f83",
   "metadata": {},
   "outputs": [],
   "source": [
    "# Dictionary containing keyword arguments for segmentation step:\n",
    "parameters_segmentation={}\n",
    "parameters_segmentation['method']='watershed'\n",
    "parameters_segmentation['threshold']=10 #30  # mm/h mixing ratio\n",
    "parameters_segmentation['ISO_dilate']=10 #this is the size \n",
    "#parameters_segmentation['features']\n",
    "#parameters_segmentation['field']\n",
    "#parameters_segmentation['dxy']\n",
    "#parameters_segmentation['target']\n",
    "#parameters_segmentation['level']\n",
    "#parameters_segmentation['method']\n",
    "#parameters_segmentation['max_distance']\n",
    "#Maximum distance from a marker allowed to be classified as\n",
    "        #belonging to that cell. Default is None.\n",
    "#parameters_segmentation['vertical_coord']"
   ]
  },
  {
   "cell_type": "code",
   "execution_count": 13,
   "id": "609ca6f2-b742-40f1-88d1-39efbd896399",
   "metadata": {},
   "outputs": [
    {
     "name": "stdout",
     "output_type": "stream",
     "text": [
      "Starting segmentation based on reflectivity\n",
      "['iso_dilate:10']\n",
      "segmentation based on reflectivity performed, start saving results to files\n",
      "segmentation reflectivity performed and saved\n"
     ]
    }
   ],
   "source": [
    "Features_df=Features.to_dataframe()\n",
    "\n",
    "# Perform Segmentation and save resulting mask to NetCDF file:\n",
    "print('Starting segmentation based on reflectivity')\n",
    "Mask_iris,Features_Precip =tobac.segmentation.segmentation(Features_df,maxrefl_iris,dxy,**parameters_segmentation)\n",
    "#Mask,Features_Precip=tobac.themes.tobac_v1.segmentation(Features,maxrefl,dxy,**parameters_segmentation)\n",
    "Features_Precip=Features_Precip.to_xarray()\n",
    "Mask=xarray.DataArray.from_iris(Mask_iris)\n",
    "Mask = Mask.to_dataset()\n",
    "\n",
    "\n",
    "#Mask,Features_Precip=segmentation(Features,maxrefl,dxy,**parameters_segmentation)\n",
    "print('segmentation based on reflectivity performed, start saving results to files')\n",
    "Mask.to_netcdf(os.path.join(savedir,'Mask_Segmentation_refl.nc'))                \n",
    "Features_Precip.to_netcdf(os.path.join(savedir,'Features_Precip.nc'))\n",
    "print('segmentation reflectivity performed and saved')"
   ]
  },
  {
   "cell_type": "code",
   "execution_count": 14,
   "id": "83fed3f4-5098-498a-9744-da37d669e640",
   "metadata": {},
   "outputs": [
    {
     "name": "stdout",
     "output_type": "stream",
     "text": [
      "features saved\n"
     ]
    }
   ],
   "source": [
    "areas = np.zeros([(len(Features['index'])+1)])\n",
    "#Mask = Mask.to_dataset()\n",
    "frame_features = Features.groupby('frame')\n",
    "\n",
    "for frame_i, features_i in frame_features: \n",
    "    mask_i = Mask['segmentation_mask'][frame_i,:,:].values\n",
    "    for i in np.unique(mask_i):\n",
    "        feature_area_i = np.where(mask_i == i)\n",
    "        areas[i] = len(feature_area_i[0])\n",
    "\n",
    "#areas = large_list[1:,1]\n",
    "#var = Features['feature'].copy(data = areas[1:])\n",
    "#var = var.rename(\"areas\")\n",
    "#var = Features_Precip['feature'].copy(data = areas[1:])\n",
    "var = Features['feature'].copy(data = areas[1:])\n",
    "var = var.rename(\"areas\")\n",
    "Features_Precip = xarray.merge([Features_Precip,var], compat = 'override')\n",
    "Features = xarray.merge([Features,var], compat = 'override')\n",
    "Features_Precip.to_netcdf(os.path.join(savedir, 'Features_Precip.nc'))\n",
    "Features.to_netcdf(os.path.join(savedir,'Features.nc'))\n",
    "Mask = Mask.to_array()\n",
    "Features_df=Features.to_dataframe()\n",
    "print('features saved')"
   ]
  },
  {
   "cell_type": "code",
   "execution_count": 15,
   "id": "8b7562fa-56ef-455e-a7b0-6d7df99ae288",
   "metadata": {},
   "outputs": [],
   "source": [
    "# Dictionary containing keyword arguments for the linking step:\n",
    "parameters_linking={}\n",
    "parameters_linking['stubs'] = 5\n",
    "parameters_linking['method_linking']='predict'\n",
    "parameters_linking['adaptive_stop']=0.2\n",
    "parameters_linking['adaptive_step']=0.95\n",
    "parameters_linking['extrapolate']=2 #was 1 - the number of frames to extrapolate to\n",
    "parameters_linking['order']=2 #Order of polynomial for extrapolating\n",
    "parameters_linking['subnetwork_size']=100 #50 #100\n",
    "parameters_linking['memory']= 2\n",
    "#parameters_linking['time_cell_min']=1\n",
    "parameters_linking['v_max']=2.0#1.0#.5\n",
    "parameters_linking['d_min']= None #5"
   ]
  },
  {
   "cell_type": "code",
   "execution_count": 16,
   "id": "5ab8024f-f80b-42fe-8a3c-ed4af42e65d9",
   "metadata": {},
   "outputs": [
    {
     "name": "stdout",
     "output_type": "stream",
     "text": [
      "Frame 180: 225 trajectories present.\n"
     ]
    }
   ],
   "source": [
    "# Perform trajectory linking using trackpy and save the resulting DataFrame:\n",
    "\n",
    "#Track=tobac.themes.tobac_v1.linking_trackpy(Features,Mask,dt=dt,dxy=dxy,**parameters_linking)\n",
    "Features_df=Features.to_dataframe()\n",
    "Track=tobac.linking_trackpy(Features_df,Mask_iris,dt=dt,dxy=dxy,**parameters_linking)\n",
    "Track = Track.to_xarray()\n",
    "Track.to_netcdf(os.path.join(savedir,'Track.nc'))"
   ]
  },
  {
   "cell_type": "code",
   "execution_count": 17,
   "id": "5e35d9d9-1192-4b89-a06b-c216fc95b890",
   "metadata": {},
   "outputs": [],
   "source": [
    "Track = xarray.open_dataset(savedir+\"/Track.nc\")\n",
    "Features = xarray.open_dataset(savedir+\"/Features.nc\")\n",
    "refl_mask = xarray.open_dataset(savedir+\"/Mask_Segmentation_refl.nc\")\n",
    "refl_features = xarray.open_dataset(savedir+\"/Features_Precip.nc\")"
   ]
  },
  {
   "cell_type": "code",
   "execution_count": 18,
   "id": "659542f3-3903-4320-9391-d8191cba6c59",
   "metadata": {},
   "outputs": [],
   "source": [
    "path = \"/Volumes/Seagate Backup Plus Drive/KNB_TTU/NUWRF/1min_nuwrf_arr_2013-06-*_00.nc\"\n",
    "files = sorted(glob(path))\n",
    "grid_lat = data['latitude']\n",
    "grid_lon = data['longitude']\n",
    "rng = pd.date_range(pd.Timestamp(\"2013-06-19 21:00\"),periods=181, freq='min')"
   ]
  },
  {
   "cell_type": "code",
   "execution_count": 22,
   "id": "d64dbac2-9669-4a2a-8542-aa4fe2b88e29",
   "metadata": {
    "scrolled": true,
    "tags": []
   },
   "outputs": [
    {
     "name": "stdout",
     "output_type": "stream",
     "text": [
      "50\n"
     ]
    },
    {
     "data": {
      "text/plain": [
       "Text(0.5, 0.98, '2013-06-19 21:50:00')"
      ]
     },
     "execution_count": 22,
     "metadata": {},
     "output_type": "execute_result"
    },
    {
     "data": {
      "text/plain": [
       "<matplotlib.colorbar.Colorbar at 0x7fcf60c20d30>"
      ]
     },
     "execution_count": 22,
     "metadata": {},
     "output_type": "execute_result"
    },
    {
     "data": {
      "text/plain": [
       "[<matplotlib.lines.Line2D at 0x7fd07d9fa220>]"
      ]
     },
     "execution_count": 22,
     "metadata": {},
     "output_type": "execute_result"
    },
    {
     "data": {
      "text/plain": [
       "[<matplotlib.lines.Line2D at 0x7fd07da05df0>]"
      ]
     },
     "execution_count": 22,
     "metadata": {},
     "output_type": "execute_result"
    },
    {
     "data": {
      "text/plain": [
       "[<matplotlib.lines.Line2D at 0x7fd07fe3ea90>]"
      ]
     },
     "execution_count": 22,
     "metadata": {},
     "output_type": "execute_result"
    },
    {
     "data": {
      "text/plain": [
       "[<matplotlib.lines.Line2D at 0x7fcf20ea0670>]"
      ]
     },
     "execution_count": 22,
     "metadata": {},
     "output_type": "execute_result"
    },
    {
     "data": {
      "text/plain": [
       "[<matplotlib.lines.Line2D at 0x7fcf20ea2130>]"
      ]
     },
     "execution_count": 22,
     "metadata": {},
     "output_type": "execute_result"
    },
    {
     "data": {
      "text/plain": [
       "[<matplotlib.lines.Line2D at 0x7fcf20eaf490>]"
      ]
     },
     "execution_count": 22,
     "metadata": {},
     "output_type": "execute_result"
    },
    {
     "data": {
      "text/plain": [
       "[<matplotlib.lines.Line2D at 0x7fcf20ea7130>]"
      ]
     },
     "execution_count": 22,
     "metadata": {},
     "output_type": "execute_result"
    },
    {
     "data": {
      "text/plain": [
       "[<matplotlib.lines.Line2D at 0x7fcf20ea7970>]"
      ]
     },
     "execution_count": 22,
     "metadata": {},
     "output_type": "execute_result"
    },
    {
     "data": {
      "text/plain": [
       "[<matplotlib.lines.Line2D at 0x7fcf20ea7f70>]"
      ]
     },
     "execution_count": 22,
     "metadata": {},
     "output_type": "execute_result"
    },
    {
     "data": {
      "text/plain": [
       "[<matplotlib.lines.Line2D at 0x7fcf20eab130>]"
      ]
     },
     "execution_count": 22,
     "metadata": {},
     "output_type": "execute_result"
    },
    {
     "data": {
      "text/plain": [
       "[<matplotlib.lines.Line2D at 0x7fcf20eab5b0>]"
      ]
     },
     "execution_count": 22,
     "metadata": {},
     "output_type": "execute_result"
    },
    {
     "data": {
      "text/plain": [
       "[<matplotlib.lines.Line2D at 0x7fcf20eaba00>]"
      ]
     },
     "execution_count": 22,
     "metadata": {},
     "output_type": "execute_result"
    },
    {
     "data": {
      "text/plain": [
       "[<matplotlib.lines.Line2D at 0x7fcf20eabbb0>]"
      ]
     },
     "execution_count": 22,
     "metadata": {},
     "output_type": "execute_result"
    },
    {
     "data": {
      "text/plain": [
       "[<matplotlib.lines.Line2D at 0x7fcf20eabd30>]"
      ]
     },
     "execution_count": 22,
     "metadata": {},
     "output_type": "execute_result"
    },
    {
     "data": {
      "text/plain": [
       "[<matplotlib.lines.Line2D at 0x7fd07fdbd130>]"
      ]
     },
     "execution_count": 22,
     "metadata": {},
     "output_type": "execute_result"
    },
    {
     "data": {
      "text/plain": [
       "[<matplotlib.lines.Line2D at 0x7fd07fdbd190>]"
      ]
     },
     "execution_count": 22,
     "metadata": {},
     "output_type": "execute_result"
    },
    {
     "data": {
      "text/plain": [
       "[<matplotlib.lines.Line2D at 0x7fd07fdbda00>]"
      ]
     },
     "execution_count": 22,
     "metadata": {},
     "output_type": "execute_result"
    },
    {
     "data": {
      "text/plain": [
       "[<matplotlib.lines.Line2D at 0x7fd07fdbd5e0>]"
      ]
     },
     "execution_count": 22,
     "metadata": {},
     "output_type": "execute_result"
    },
    {
     "data": {
      "text/plain": [
       "[<matplotlib.lines.Line2D at 0x7fd07fdbd820>]"
      ]
     },
     "execution_count": 22,
     "metadata": {},
     "output_type": "execute_result"
    },
    {
     "data": {
      "text/plain": [
       "[<matplotlib.lines.Line2D at 0x7fd07fdbc220>]"
      ]
     },
     "execution_count": 22,
     "metadata": {},
     "output_type": "execute_result"
    },
    {
     "data": {
      "text/plain": [
       "[<matplotlib.lines.Line2D at 0x7fd07fdbc370>]"
      ]
     },
     "execution_count": 22,
     "metadata": {},
     "output_type": "execute_result"
    },
    {
     "data": {
      "text/plain": [
       "[<matplotlib.lines.Line2D at 0x7fd07fdbc130>]"
      ]
     },
     "execution_count": 22,
     "metadata": {},
     "output_type": "execute_result"
    },
    {
     "data": {
      "text/plain": [
       "[<matplotlib.lines.Line2D at 0x7fd07fdbcd90>]"
      ]
     },
     "execution_count": 22,
     "metadata": {},
     "output_type": "execute_result"
    },
    {
     "data": {
      "text/plain": [
       "[<matplotlib.lines.Line2D at 0x7fd07fdbceb0>]"
      ]
     },
     "execution_count": 22,
     "metadata": {},
     "output_type": "execute_result"
    },
    {
     "data": {
      "text/plain": [
       "[<matplotlib.lines.Line2D at 0x7fd07fdd12e0>]"
      ]
     },
     "execution_count": 22,
     "metadata": {},
     "output_type": "execute_result"
    },
    {
     "data": {
      "text/plain": [
       "[<matplotlib.lines.Line2D at 0x7fd07fdd16d0>]"
      ]
     },
     "execution_count": 22,
     "metadata": {},
     "output_type": "execute_result"
    },
    {
     "data": {
      "text/plain": [
       "[<matplotlib.lines.Line2D at 0x7fd07fdd1a30>]"
      ]
     },
     "execution_count": 22,
     "metadata": {},
     "output_type": "execute_result"
    },
    {
     "data": {
      "text/plain": [
       "[<matplotlib.lines.Line2D at 0x7fd07fdd1df0>]"
      ]
     },
     "execution_count": 22,
     "metadata": {},
     "output_type": "execute_result"
    },
    {
     "data": {
      "text/plain": [
       "[<matplotlib.lines.Line2D at 0x7fd07fdd1e50>]"
      ]
     },
     "execution_count": 22,
     "metadata": {},
     "output_type": "execute_result"
    },
    {
     "data": {
      "text/plain": [
       "[<matplotlib.lines.Line2D at 0x7fd07fdd81f0>]"
      ]
     },
     "execution_count": 22,
     "metadata": {},
     "output_type": "execute_result"
    },
    {
     "data": {
      "text/plain": [
       "[<matplotlib.lines.Line2D at 0x7fd07fdd8640>]"
      ]
     },
     "execution_count": 22,
     "metadata": {},
     "output_type": "execute_result"
    },
    {
     "data": {
      "text/plain": [
       "[<matplotlib.lines.Line2D at 0x7fd07fdd8af0>]"
      ]
     },
     "execution_count": 22,
     "metadata": {},
     "output_type": "execute_result"
    },
    {
     "data": {
      "text/plain": [
       "[<matplotlib.lines.Line2D at 0x7fd07fdd8910>]"
      ]
     },
     "execution_count": 22,
     "metadata": {},
     "output_type": "execute_result"
    },
    {
     "data": {
      "text/plain": [
       "[<matplotlib.lines.Line2D at 0x7fd07fdd8f40>]"
      ]
     },
     "execution_count": 22,
     "metadata": {},
     "output_type": "execute_result"
    },
    {
     "data": {
      "text/plain": [
       "[<matplotlib.lines.Line2D at 0x7fd07fde00a0>]"
      ]
     },
     "execution_count": 22,
     "metadata": {},
     "output_type": "execute_result"
    },
    {
     "data": {
      "text/plain": [
       "[<matplotlib.lines.Line2D at 0x7fd07fde0670>]"
      ]
     },
     "execution_count": 22,
     "metadata": {},
     "output_type": "execute_result"
    },
    {
     "data": {
      "text/plain": [
       "[<matplotlib.lines.Line2D at 0x7fd07fde0a90>]"
      ]
     },
     "execution_count": 22,
     "metadata": {},
     "output_type": "execute_result"
    },
    {
     "data": {
      "text/plain": [
       "[<matplotlib.lines.Line2D at 0x7fd07fde0dc0>]"
      ]
     },
     "execution_count": 22,
     "metadata": {},
     "output_type": "execute_result"
    },
    {
     "data": {
      "text/plain": [
       "[<matplotlib.lines.Line2D at 0x7fd07fde0ee0>]"
      ]
     },
     "execution_count": 22,
     "metadata": {},
     "output_type": "execute_result"
    },
    {
     "data": {
      "text/plain": [
       "[<matplotlib.lines.Line2D at 0x7fd07fde13a0>]"
      ]
     },
     "execution_count": 22,
     "metadata": {},
     "output_type": "execute_result"
    },
    {
     "data": {
      "text/plain": [
       "[<matplotlib.lines.Line2D at 0x7fd07fde11f0>]"
      ]
     },
     "execution_count": 22,
     "metadata": {},
     "output_type": "execute_result"
    },
    {
     "data": {
      "text/plain": [
       "[<matplotlib.lines.Line2D at 0x7fd07fde1b50>]"
      ]
     },
     "execution_count": 22,
     "metadata": {},
     "output_type": "execute_result"
    },
    {
     "data": {
      "text/plain": [
       "[<matplotlib.lines.Line2D at 0x7fd07fde1400>]"
      ]
     },
     "execution_count": 22,
     "metadata": {},
     "output_type": "execute_result"
    },
    {
     "data": {
      "text/plain": [
       "[<matplotlib.lines.Line2D at 0x7fd07fde1850>]"
      ]
     },
     "execution_count": 22,
     "metadata": {},
     "output_type": "execute_result"
    },
    {
     "data": {
      "text/plain": [
       "[<matplotlib.lines.Line2D at 0x7fd07fdda580>]"
      ]
     },
     "execution_count": 22,
     "metadata": {},
     "output_type": "execute_result"
    },
    {
     "data": {
      "text/plain": [
       "[<matplotlib.lines.Line2D at 0x7fd07fdda100>]"
      ]
     },
     "execution_count": 22,
     "metadata": {},
     "output_type": "execute_result"
    },
    {
     "data": {
      "text/plain": [
       "[<matplotlib.lines.Line2D at 0x7fd07fddaa90>]"
      ]
     },
     "execution_count": 22,
     "metadata": {},
     "output_type": "execute_result"
    },
    {
     "data": {
      "text/plain": [
       "[<matplotlib.lines.Line2D at 0x7fd07fddaca0>]"
      ]
     },
     "execution_count": 22,
     "metadata": {},
     "output_type": "execute_result"
    },
    {
     "data": {
      "text/plain": [
       "[<matplotlib.lines.Line2D at 0x7fd07fddaee0>]"
      ]
     },
     "execution_count": 22,
     "metadata": {},
     "output_type": "execute_result"
    },
    {
     "data": {
      "text/plain": [
       "[<matplotlib.lines.Line2D at 0x7fd07da1c3d0>]"
      ]
     },
     "execution_count": 22,
     "metadata": {},
     "output_type": "execute_result"
    },
    {
     "data": {
      "text/plain": [
       "[<matplotlib.lines.Line2D at 0x7fd07da1c850>]"
      ]
     },
     "execution_count": 22,
     "metadata": {},
     "output_type": "execute_result"
    },
    {
     "data": {
      "text/plain": [
       "[<matplotlib.lines.Line2D at 0x7fd07da1cb80>]"
      ]
     },
     "execution_count": 22,
     "metadata": {},
     "output_type": "execute_result"
    },
    {
     "data": {
      "text/plain": [
       "[<matplotlib.lines.Line2D at 0x7fd07da1ca30>]"
      ]
     },
     "execution_count": 22,
     "metadata": {},
     "output_type": "execute_result"
    },
    {
     "data": {
      "text/plain": [
       "[<matplotlib.lines.Line2D at 0x7fd07da1c760>]"
      ]
     },
     "execution_count": 22,
     "metadata": {},
     "output_type": "execute_result"
    },
    {
     "data": {
      "text/plain": [
       "[<matplotlib.lines.Line2D at 0x7fd07da0e370>]"
      ]
     },
     "execution_count": 22,
     "metadata": {},
     "output_type": "execute_result"
    },
    {
     "data": {
      "text/plain": [
       "[<matplotlib.lines.Line2D at 0x7fd07da0e8b0>]"
      ]
     },
     "execution_count": 22,
     "metadata": {},
     "output_type": "execute_result"
    },
    {
     "data": {
      "text/plain": [
       "[<matplotlib.lines.Line2D at 0x7fd07da0ea60>]"
      ]
     },
     "execution_count": 22,
     "metadata": {},
     "output_type": "execute_result"
    },
    {
     "data": {
      "text/plain": [
       "[<matplotlib.lines.Line2D at 0x7fd07da0ef10>]"
      ]
     },
     "execution_count": 22,
     "metadata": {},
     "output_type": "execute_result"
    },
    {
     "data": {
      "text/plain": [
       "[<matplotlib.lines.Line2D at 0x7fd07da0ee50>]"
      ]
     },
     "execution_count": 22,
     "metadata": {},
     "output_type": "execute_result"
    },
    {
     "data": {
      "text/plain": [
       "[<matplotlib.lines.Line2D at 0x7fd07da2b400>]"
      ]
     },
     "execution_count": 22,
     "metadata": {},
     "output_type": "execute_result"
    },
    {
     "data": {
      "text/plain": [
       "[<matplotlib.lines.Line2D at 0x7fd07da2b700>]"
      ]
     },
     "execution_count": 22,
     "metadata": {},
     "output_type": "execute_result"
    },
    {
     "data": {
      "text/plain": [
       "[<matplotlib.lines.Line2D at 0x7fd07da2b2b0>]"
      ]
     },
     "execution_count": 22,
     "metadata": {},
     "output_type": "execute_result"
    },
    {
     "data": {
      "text/plain": [
       "[<matplotlib.lines.Line2D at 0x7fd07da2beb0>]"
      ]
     },
     "execution_count": 22,
     "metadata": {},
     "output_type": "execute_result"
    },
    {
     "data": {
      "text/plain": [
       "[<matplotlib.lines.Line2D at 0x7fd07da2bd90>]"
      ]
     },
     "execution_count": 22,
     "metadata": {},
     "output_type": "execute_result"
    },
    {
     "data": {
      "text/plain": [
       "[<matplotlib.lines.Line2D at 0x7fd07da37370>]"
      ]
     },
     "execution_count": 22,
     "metadata": {},
     "output_type": "execute_result"
    },
    {
     "data": {
      "text/plain": [
       "[<matplotlib.lines.Line2D at 0x7fd07da37940>]"
      ]
     },
     "execution_count": 22,
     "metadata": {},
     "output_type": "execute_result"
    },
    {
     "data": {
      "text/plain": [
       "[<matplotlib.lines.Line2D at 0x7fd07da37670>]"
      ]
     },
     "execution_count": 22,
     "metadata": {},
     "output_type": "execute_result"
    },
    {
     "data": {
      "text/plain": [
       "[<matplotlib.lines.Line2D at 0x7fd07da37d60>]"
      ]
     },
     "execution_count": 22,
     "metadata": {},
     "output_type": "execute_result"
    },
    {
     "data": {
      "text/plain": [
       "[<matplotlib.lines.Line2D at 0x7fd07da37b80>]"
      ]
     },
     "execution_count": 22,
     "metadata": {},
     "output_type": "execute_result"
    },
    {
     "data": {
      "text/plain": [
       "[<matplotlib.lines.Line2D at 0x7fd07da26520>]"
      ]
     },
     "execution_count": 22,
     "metadata": {},
     "output_type": "execute_result"
    },
    {
     "data": {
      "text/plain": [
       "[<matplotlib.lines.Line2D at 0x7fd07da26040>]"
      ]
     },
     "execution_count": 22,
     "metadata": {},
     "output_type": "execute_result"
    },
    {
     "data": {
      "text/plain": [
       "[<matplotlib.lines.Line2D at 0x7fd07da26b80>]"
      ]
     },
     "execution_count": 22,
     "metadata": {},
     "output_type": "execute_result"
    },
    {
     "data": {
      "text/plain": [
       "[<matplotlib.lines.Line2D at 0x7fd07da26b20>]"
      ]
     },
     "execution_count": 22,
     "metadata": {},
     "output_type": "execute_result"
    },
    {
     "data": {
      "text/plain": [
       "[<matplotlib.lines.Line2D at 0x7fd07da262b0>]"
      ]
     },
     "execution_count": 22,
     "metadata": {},
     "output_type": "execute_result"
    },
    {
     "data": {
      "text/plain": [
       "[<matplotlib.lines.Line2D at 0x7fd07da320a0>]"
      ]
     },
     "execution_count": 22,
     "metadata": {},
     "output_type": "execute_result"
    },
    {
     "data": {
      "text/plain": [
       "[<matplotlib.lines.Line2D at 0x7fd07da328e0>]"
      ]
     },
     "execution_count": 22,
     "metadata": {},
     "output_type": "execute_result"
    },
    {
     "data": {
      "text/plain": [
       "[<matplotlib.lines.Line2D at 0x7fd07da32a00>]"
      ]
     },
     "execution_count": 22,
     "metadata": {},
     "output_type": "execute_result"
    },
    {
     "data": {
      "text/plain": [
       "[<matplotlib.lines.Line2D at 0x7fd07da32f10>]"
      ]
     },
     "execution_count": 22,
     "metadata": {},
     "output_type": "execute_result"
    },
    {
     "data": {
      "text/plain": [
       "[<matplotlib.lines.Line2D at 0x7fd07da32850>]"
      ]
     },
     "execution_count": 22,
     "metadata": {},
     "output_type": "execute_result"
    },
    {
     "data": {
      "text/plain": [
       "[<matplotlib.lines.Line2D at 0x7fd07da403a0>]"
      ]
     },
     "execution_count": 22,
     "metadata": {},
     "output_type": "execute_result"
    },
    {
     "data": {
      "text/plain": [
       "[<matplotlib.lines.Line2D at 0x7fd07da40850>]"
      ]
     },
     "execution_count": 22,
     "metadata": {},
     "output_type": "execute_result"
    },
    {
     "data": {
      "text/plain": [
       "[<matplotlib.lines.Line2D at 0x7fd07da40c10>]"
      ]
     },
     "execution_count": 22,
     "metadata": {},
     "output_type": "execute_result"
    },
    {
     "data": {
      "text/plain": [
       "[<matplotlib.lines.Line2D at 0x7fd07da40370>]"
      ]
     },
     "execution_count": 22,
     "metadata": {},
     "output_type": "execute_result"
    },
    {
     "data": {
      "text/plain": [
       "[<matplotlib.lines.Line2D at 0x7fcf00663190>]"
      ]
     },
     "execution_count": 22,
     "metadata": {},
     "output_type": "execute_result"
    },
    {
     "data": {
      "text/plain": [
       "[<matplotlib.lines.Line2D at 0x7fcf00663490>]"
      ]
     },
     "execution_count": 22,
     "metadata": {},
     "output_type": "execute_result"
    },
    {
     "data": {
      "text/plain": [
       "[<matplotlib.lines.Line2D at 0x7fcf006639a0>]"
      ]
     },
     "execution_count": 22,
     "metadata": {},
     "output_type": "execute_result"
    },
    {
     "data": {
      "text/plain": [
       "[<matplotlib.lines.Line2D at 0x7fcf00663c70>]"
      ]
     },
     "execution_count": 22,
     "metadata": {},
     "output_type": "execute_result"
    },
    {
     "data": {
      "text/plain": [
       "[<matplotlib.lines.Line2D at 0x7fcf00663fa0>]"
      ]
     },
     "execution_count": 22,
     "metadata": {},
     "output_type": "execute_result"
    },
    {
     "data": {
      "text/plain": [
       "[<matplotlib.lines.Line2D at 0x7fcf0066a040>]"
      ]
     },
     "execution_count": 22,
     "metadata": {},
     "output_type": "execute_result"
    },
    {
     "data": {
      "text/plain": [
       "[<matplotlib.lines.Line2D at 0x7fcf0066a670>]"
      ]
     },
     "execution_count": 22,
     "metadata": {},
     "output_type": "execute_result"
    },
    {
     "data": {
      "text/plain": [
       "[<matplotlib.lines.Line2D at 0x7fcf0066a820>]"
      ]
     },
     "execution_count": 22,
     "metadata": {},
     "output_type": "execute_result"
    },
    {
     "data": {
      "text/plain": [
       "[<matplotlib.lines.Line2D at 0x7fcf0066a7f0>]"
      ]
     },
     "execution_count": 22,
     "metadata": {},
     "output_type": "execute_result"
    },
    {
     "data": {
      "text/plain": [
       "[<matplotlib.lines.Line2D at 0x7fcf0066ab50>]"
      ]
     },
     "execution_count": 22,
     "metadata": {},
     "output_type": "execute_result"
    },
    {
     "data": {
      "text/plain": [
       "[<matplotlib.lines.Line2D at 0x7fcf00672490>]"
      ]
     },
     "execution_count": 22,
     "metadata": {},
     "output_type": "execute_result"
    },
    {
     "data": {
      "text/plain": [
       "[<matplotlib.lines.Line2D at 0x7fcf006725e0>]"
      ]
     },
     "execution_count": 22,
     "metadata": {},
     "output_type": "execute_result"
    },
    {
     "data": {
      "text/plain": [
       "[<matplotlib.lines.Line2D at 0x7fcf00672220>]"
      ]
     },
     "execution_count": 22,
     "metadata": {},
     "output_type": "execute_result"
    },
    {
     "data": {
      "text/plain": [
       "[<matplotlib.lines.Line2D at 0x7fcf00672580>]"
      ]
     },
     "execution_count": 22,
     "metadata": {},
     "output_type": "execute_result"
    },
    {
     "data": {
      "text/plain": [
       "[<matplotlib.lines.Line2D at 0x7fcf00672ca0>]"
      ]
     },
     "execution_count": 22,
     "metadata": {},
     "output_type": "execute_result"
    },
    {
     "data": {
      "text/plain": [
       "[<matplotlib.lines.Line2D at 0x7fcf0067b0d0>]"
      ]
     },
     "execution_count": 22,
     "metadata": {},
     "output_type": "execute_result"
    },
    {
     "data": {
      "text/plain": [
       "[<matplotlib.lines.Line2D at 0x7fcf0067b730>]"
      ]
     },
     "execution_count": 22,
     "metadata": {},
     "output_type": "execute_result"
    },
    {
     "data": {
      "text/plain": [
       "[<matplotlib.lines.Line2D at 0x7fcf0067b040>]"
      ]
     },
     "execution_count": 22,
     "metadata": {},
     "output_type": "execute_result"
    },
    {
     "data": {
      "text/plain": [
       "[<matplotlib.lines.Line2D at 0x7fcf0067bbb0>]"
      ]
     },
     "execution_count": 22,
     "metadata": {},
     "output_type": "execute_result"
    },
    {
     "data": {
      "text/plain": [
       "[<matplotlib.lines.Line2D at 0x7fcf0067bf70>]"
      ]
     },
     "execution_count": 22,
     "metadata": {},
     "output_type": "execute_result"
    },
    {
     "data": {
      "text/plain": [
       "[<matplotlib.lines.Line2D at 0x7fcf006861c0>]"
      ]
     },
     "execution_count": 22,
     "metadata": {},
     "output_type": "execute_result"
    },
    {
     "data": {
      "text/plain": [
       "[<matplotlib.lines.Line2D at 0x7fcf00686730>]"
      ]
     },
     "execution_count": 22,
     "metadata": {},
     "output_type": "execute_result"
    },
    {
     "data": {
      "text/plain": [
       "[<matplotlib.lines.Line2D at 0x7fcf00686970>]"
      ]
     },
     "execution_count": 22,
     "metadata": {},
     "output_type": "execute_result"
    },
    {
     "data": {
      "text/plain": [
       "[<matplotlib.lines.Line2D at 0x7fcf00686d00>]"
      ]
     },
     "execution_count": 22,
     "metadata": {},
     "output_type": "execute_result"
    },
    {
     "data": {
      "text/plain": [
       "[<matplotlib.lines.Line2D at 0x7fcf00686fd0>]"
      ]
     },
     "execution_count": 22,
     "metadata": {},
     "output_type": "execute_result"
    },
    {
     "data": {
      "text/plain": [
       "[<matplotlib.lines.Line2D at 0x7fcf0067e0a0>]"
      ]
     },
     "execution_count": 22,
     "metadata": {},
     "output_type": "execute_result"
    },
    {
     "data": {
      "text/plain": [
       "[<matplotlib.lines.Line2D at 0x7fcf0067e700>]"
      ]
     },
     "execution_count": 22,
     "metadata": {},
     "output_type": "execute_result"
    },
    {
     "data": {
      "text/plain": [
       "[<matplotlib.lines.Line2D at 0x7fcf0067eaf0>]"
      ]
     },
     "execution_count": 22,
     "metadata": {},
     "output_type": "execute_result"
    },
    {
     "data": {
      "text/plain": [
       "[<matplotlib.lines.Line2D at 0x7fcf0067ecd0>]"
      ]
     },
     "execution_count": 22,
     "metadata": {},
     "output_type": "execute_result"
    },
    {
     "data": {
      "text/plain": [
       "[<matplotlib.lines.Line2D at 0x7fcf0067e8e0>]"
      ]
     },
     "execution_count": 22,
     "metadata": {},
     "output_type": "execute_result"
    },
    {
     "data": {
      "text/plain": [
       "[<matplotlib.lines.Line2D at 0x7fcf0068d340>]"
      ]
     },
     "execution_count": 22,
     "metadata": {},
     "output_type": "execute_result"
    },
    {
     "data": {
      "text/plain": [
       "[<matplotlib.lines.Line2D at 0x7fcf0068d6a0>]"
      ]
     },
     "execution_count": 22,
     "metadata": {},
     "output_type": "execute_result"
    },
    {
     "data": {
      "text/plain": [
       "[<matplotlib.lines.Line2D at 0x7fcf0068da00>]"
      ]
     },
     "execution_count": 22,
     "metadata": {},
     "output_type": "execute_result"
    },
    {
     "data": {
      "text/plain": [
       "[<matplotlib.lines.Line2D at 0x7fcf0068da90>]"
      ]
     },
     "execution_count": 22,
     "metadata": {},
     "output_type": "execute_result"
    },
    {
     "data": {
      "text/plain": [
       "[<matplotlib.lines.Line2D at 0x7fcf0068d220>]"
      ]
     },
     "execution_count": 22,
     "metadata": {},
     "output_type": "execute_result"
    },
    {
     "data": {
      "text/plain": [
       "[<matplotlib.lines.Line2D at 0x7fcf00022280>]"
      ]
     },
     "execution_count": 22,
     "metadata": {},
     "output_type": "execute_result"
    },
    {
     "data": {
      "text/plain": [
       "[<matplotlib.lines.Line2D at 0x7fcf000227f0>]"
      ]
     },
     "execution_count": 22,
     "metadata": {},
     "output_type": "execute_result"
    },
    {
     "data": {
      "text/plain": [
       "[<matplotlib.lines.Line2D at 0x7fcf00022af0>]"
      ]
     },
     "execution_count": 22,
     "metadata": {},
     "output_type": "execute_result"
    },
    {
     "data": {
      "text/plain": [
       "[<matplotlib.lines.Line2D at 0x7fcf000228e0>]"
      ]
     },
     "execution_count": 22,
     "metadata": {},
     "output_type": "execute_result"
    },
    {
     "data": {
      "text/plain": [
       "[<matplotlib.lines.Line2D at 0x7fcf00022dc0>]"
      ]
     },
     "execution_count": 22,
     "metadata": {},
     "output_type": "execute_result"
    },
    {
     "data": {
      "text/plain": [
       "[<matplotlib.lines.Line2D at 0x7fcf00016370>]"
      ]
     },
     "execution_count": 22,
     "metadata": {},
     "output_type": "execute_result"
    },
    {
     "data": {
      "text/plain": [
       "[<matplotlib.lines.Line2D at 0x7fcf000161c0>]"
      ]
     },
     "execution_count": 22,
     "metadata": {},
     "output_type": "execute_result"
    },
    {
     "data": {
      "text/plain": [
       "[<matplotlib.lines.Line2D at 0x7fcf000167c0>]"
      ]
     },
     "execution_count": 22,
     "metadata": {},
     "output_type": "execute_result"
    },
    {
     "data": {
      "text/plain": [
       "[<matplotlib.lines.Line2D at 0x7fcf000168b0>]"
      ]
     },
     "execution_count": 22,
     "metadata": {},
     "output_type": "execute_result"
    },
    {
     "data": {
      "text/plain": [
       "[<matplotlib.lines.Line2D at 0x7fcf000166a0>]"
      ]
     },
     "execution_count": 22,
     "metadata": {},
     "output_type": "execute_result"
    },
    {
     "data": {
      "text/plain": [
       "[<matplotlib.lines.Line2D at 0x7fcf00036310>]"
      ]
     },
     "execution_count": 22,
     "metadata": {},
     "output_type": "execute_result"
    },
    {
     "data": {
      "text/plain": [
       "[<matplotlib.lines.Line2D at 0x7fcf000366a0>]"
      ]
     },
     "execution_count": 22,
     "metadata": {},
     "output_type": "execute_result"
    },
    {
     "data": {
      "text/plain": [
       "[<matplotlib.lines.Line2D at 0x7fcf000366d0>]"
      ]
     },
     "execution_count": 22,
     "metadata": {},
     "output_type": "execute_result"
    },
    {
     "data": {
      "text/plain": [
       "[<matplotlib.lines.Line2D at 0x7fcf00036d00>]"
      ]
     },
     "execution_count": 22,
     "metadata": {},
     "output_type": "execute_result"
    },
    {
     "data": {
      "text/plain": [
       "[<matplotlib.lines.Line2D at 0x7fcf00036a90>]"
      ]
     },
     "execution_count": 22,
     "metadata": {},
     "output_type": "execute_result"
    },
    {
     "data": {
      "text/plain": [
       "[<matplotlib.lines.Line2D at 0x7fcf00047490>]"
      ]
     },
     "execution_count": 22,
     "metadata": {},
     "output_type": "execute_result"
    },
    {
     "data": {
      "text/plain": [
       "[<matplotlib.lines.Line2D at 0x7fcf00047640>]"
      ]
     },
     "execution_count": 22,
     "metadata": {},
     "output_type": "execute_result"
    },
    {
     "data": {
      "text/plain": [
       "[<matplotlib.lines.Line2D at 0x7fcf000473d0>]"
      ]
     },
     "execution_count": 22,
     "metadata": {},
     "output_type": "execute_result"
    },
    {
     "data": {
      "text/plain": [
       "[<matplotlib.lines.Line2D at 0x7fcf00047ee0>]"
      ]
     },
     "execution_count": 22,
     "metadata": {},
     "output_type": "execute_result"
    },
    {
     "data": {
      "text/plain": [
       "[<matplotlib.lines.Line2D at 0x7fcf00047e80>]"
      ]
     },
     "execution_count": 22,
     "metadata": {},
     "output_type": "execute_result"
    },
    {
     "data": {
      "text/plain": [
       "[<matplotlib.lines.Line2D at 0x7fcf00039640>]"
      ]
     },
     "execution_count": 22,
     "metadata": {},
     "output_type": "execute_result"
    },
    {
     "data": {
      "text/plain": [
       "[<matplotlib.lines.Line2D at 0x7fcf00039820>]"
      ]
     },
     "execution_count": 22,
     "metadata": {},
     "output_type": "execute_result"
    },
    {
     "data": {
      "text/plain": [
       "[<matplotlib.lines.Line2D at 0x7fcf00039b20>]"
      ]
     },
     "execution_count": 22,
     "metadata": {},
     "output_type": "execute_result"
    },
    {
     "data": {
      "text/plain": [
       "[<matplotlib.lines.Line2D at 0x7fcf00039e20>]"
      ]
     },
     "execution_count": 22,
     "metadata": {},
     "output_type": "execute_result"
    },
    {
     "data": {
      "text/plain": [
       "[<matplotlib.lines.Line2D at 0x7fcf00039e50>]"
      ]
     },
     "execution_count": 22,
     "metadata": {},
     "output_type": "execute_result"
    },
    {
     "data": {
      "text/plain": [
       "[<matplotlib.lines.Line2D at 0x7fcf610453a0>]"
      ]
     },
     "execution_count": 22,
     "metadata": {},
     "output_type": "execute_result"
    },
    {
     "data": {
      "text/plain": [
       "[<matplotlib.lines.Line2D at 0x7fcf610458b0>]"
      ]
     },
     "execution_count": 22,
     "metadata": {},
     "output_type": "execute_result"
    },
    {
     "data": {
      "text/plain": [
       "[<matplotlib.lines.Line2D at 0x7fcf61045c40>]"
      ]
     },
     "execution_count": 22,
     "metadata": {},
     "output_type": "execute_result"
    },
    {
     "data": {
      "text/plain": [
       "[<matplotlib.lines.Line2D at 0x7fcf61045df0>]"
      ]
     },
     "execution_count": 22,
     "metadata": {},
     "output_type": "execute_result"
    },
    {
     "data": {
      "text/plain": [
       "[<matplotlib.lines.Line2D at 0x7fcf61051190>]"
      ]
     },
     "execution_count": 22,
     "metadata": {},
     "output_type": "execute_result"
    },
    {
     "data": {
      "text/plain": [
       "[<matplotlib.lines.Line2D at 0x7fcf610514f0>]"
      ]
     },
     "execution_count": 22,
     "metadata": {},
     "output_type": "execute_result"
    },
    {
     "data": {
      "text/plain": [
       "[<matplotlib.lines.Line2D at 0x7fcf61051520>]"
      ]
     },
     "execution_count": 22,
     "metadata": {},
     "output_type": "execute_result"
    },
    {
     "data": {
      "text/plain": [
       "[<matplotlib.lines.Line2D at 0x7fcf61051ac0>]"
      ]
     },
     "execution_count": 22,
     "metadata": {},
     "output_type": "execute_result"
    },
    {
     "data": {
      "text/plain": [
       "[<matplotlib.lines.Line2D at 0x7fcf61051e50>]"
      ]
     },
     "execution_count": 22,
     "metadata": {},
     "output_type": "execute_result"
    },
    {
     "data": {
      "text/plain": [
       "[<matplotlib.lines.Line2D at 0x7fcf61051bb0>]"
      ]
     },
     "execution_count": 22,
     "metadata": {},
     "output_type": "execute_result"
    },
    {
     "data": {
      "text/plain": [
       "[<matplotlib.lines.Line2D at 0x7fcf6105c520>]"
      ]
     },
     "execution_count": 22,
     "metadata": {},
     "output_type": "execute_result"
    },
    {
     "data": {
      "text/plain": [
       "[<matplotlib.lines.Line2D at 0x7fcf6105c070>]"
      ]
     },
     "execution_count": 22,
     "metadata": {},
     "output_type": "execute_result"
    },
    {
     "data": {
      "text/plain": [
       "[<matplotlib.lines.Line2D at 0x7fcf6105cca0>]"
      ]
     },
     "execution_count": 22,
     "metadata": {},
     "output_type": "execute_result"
    },
    {
     "data": {
      "text/plain": [
       "[<matplotlib.lines.Line2D at 0x7fcf6105ce80>]"
      ]
     },
     "execution_count": 22,
     "metadata": {},
     "output_type": "execute_result"
    },
    {
     "data": {
      "text/plain": [
       "[<matplotlib.lines.Line2D at 0x7fcf6104f340>]"
      ]
     },
     "execution_count": 22,
     "metadata": {},
     "output_type": "execute_result"
    },
    {
     "data": {
      "text/plain": [
       "[<matplotlib.lines.Line2D at 0x7fcf6104f670>]"
      ]
     },
     "execution_count": 22,
     "metadata": {},
     "output_type": "execute_result"
    },
    {
     "data": {
      "text/plain": [
       "[<matplotlib.lines.Line2D at 0x7fcf6104f820>]"
      ]
     },
     "execution_count": 22,
     "metadata": {},
     "output_type": "execute_result"
    },
    {
     "data": {
      "text/plain": [
       "[<matplotlib.lines.Line2D at 0x7fcf6104f700>]"
      ]
     },
     "execution_count": 22,
     "metadata": {},
     "output_type": "execute_result"
    },
    {
     "data": {
      "text/plain": [
       "[<matplotlib.lines.Line2D at 0x7fcf6104f250>]"
      ]
     },
     "execution_count": 22,
     "metadata": {},
     "output_type": "execute_result"
    },
    {
     "data": {
      "text/plain": [
       "[<matplotlib.lines.Line2D at 0x7fcf61061310>]"
      ]
     },
     "execution_count": 22,
     "metadata": {},
     "output_type": "execute_result"
    },
    {
     "data": {
      "text/plain": [
       "[<matplotlib.lines.Line2D at 0x7fcf61061070>]"
      ]
     },
     "execution_count": 22,
     "metadata": {},
     "output_type": "execute_result"
    },
    {
     "data": {
      "text/plain": [
       "[<matplotlib.lines.Line2D at 0x7fcf61061910>]"
      ]
     },
     "execution_count": 22,
     "metadata": {},
     "output_type": "execute_result"
    },
    {
     "data": {
      "text/plain": [
       "[<matplotlib.lines.Line2D at 0x7fcf61061ca0>]"
      ]
     },
     "execution_count": 22,
     "metadata": {},
     "output_type": "execute_result"
    },
    {
     "data": {
      "text/plain": [
       "[<matplotlib.lines.Line2D at 0x7fcf61061f40>]"
      ]
     },
     "execution_count": 22,
     "metadata": {},
     "output_type": "execute_result"
    },
    {
     "data": {
      "text/plain": [
       "[<matplotlib.lines.Line2D at 0x7fd07dac0190>]"
      ]
     },
     "execution_count": 22,
     "metadata": {},
     "output_type": "execute_result"
    },
    {
     "data": {
      "text/plain": [
       "[<matplotlib.lines.Line2D at 0x7fd07dac0310>]"
      ]
     },
     "execution_count": 22,
     "metadata": {},
     "output_type": "execute_result"
    },
    {
     "data": {
      "text/plain": [
       "[<matplotlib.lines.Line2D at 0x7fd07dac0970>]"
      ]
     },
     "execution_count": 22,
     "metadata": {},
     "output_type": "execute_result"
    },
    {
     "data": {
      "text/plain": [
       "[<matplotlib.lines.Line2D at 0x7fd07dac00a0>]"
      ]
     },
     "execution_count": 22,
     "metadata": {},
     "output_type": "execute_result"
    },
    {
     "data": {
      "text/plain": [
       "[<matplotlib.lines.Line2D at 0x7fd07dac0880>]"
      ]
     },
     "execution_count": 22,
     "metadata": {},
     "output_type": "execute_result"
    },
    {
     "data": {
      "text/plain": [
       "[<matplotlib.lines.Line2D at 0x7fd07dac9400>]"
      ]
     },
     "execution_count": 22,
     "metadata": {},
     "output_type": "execute_result"
    },
    {
     "data": {
      "text/plain": [
       "[<matplotlib.lines.Line2D at 0x7fd07dac93a0>]"
      ]
     },
     "execution_count": 22,
     "metadata": {},
     "output_type": "execute_result"
    },
    {
     "data": {
      "text/plain": [
       "[<matplotlib.lines.Line2D at 0x7fd07dac98b0>]"
      ]
     },
     "execution_count": 22,
     "metadata": {},
     "output_type": "execute_result"
    },
    {
     "data": {
      "text/plain": [
       "[<matplotlib.lines.Line2D at 0x7fd07dac9ca0>]"
      ]
     },
     "execution_count": 22,
     "metadata": {},
     "output_type": "execute_result"
    },
    {
     "data": {
      "text/plain": [
       "[<matplotlib.lines.Line2D at 0x7fd07dac9cd0>]"
      ]
     },
     "execution_count": 22,
     "metadata": {},
     "output_type": "execute_result"
    },
    {
     "data": {
      "text/plain": [
       "[<matplotlib.lines.Line2D at 0x7fd07dad21f0>]"
      ]
     },
     "execution_count": 22,
     "metadata": {},
     "output_type": "execute_result"
    },
    {
     "data": {
      "text/plain": [
       "[<matplotlib.lines.Line2D at 0x7fd07dad2850>]"
      ]
     },
     "execution_count": 22,
     "metadata": {},
     "output_type": "execute_result"
    },
    {
     "data": {
      "text/plain": [
       "[<matplotlib.lines.Line2D at 0x7fd07dad2100>]"
      ]
     },
     "execution_count": 22,
     "metadata": {},
     "output_type": "execute_result"
    },
    {
     "data": {
      "text/plain": [
       "[<matplotlib.lines.Line2D at 0x7fd07dad2bb0>]"
      ]
     },
     "execution_count": 22,
     "metadata": {},
     "output_type": "execute_result"
    },
    {
     "data": {
      "text/plain": [
       "[<matplotlib.lines.Line2D at 0x7fd07dad2f70>]"
      ]
     },
     "execution_count": 22,
     "metadata": {},
     "output_type": "execute_result"
    },
    {
     "data": {
      "text/plain": [
       "[<matplotlib.lines.Line2D at 0x7fd07dadb3d0>]"
      ]
     },
     "execution_count": 22,
     "metadata": {},
     "output_type": "execute_result"
    },
    {
     "data": {
      "text/plain": [
       "[<matplotlib.lines.Line2D at 0x7fd07dadb670>]"
      ]
     },
     "execution_count": 22,
     "metadata": {},
     "output_type": "execute_result"
    },
    {
     "data": {
      "text/plain": [
       "[<matplotlib.lines.Line2D at 0x7fd07dadb610>]"
      ]
     },
     "execution_count": 22,
     "metadata": {},
     "output_type": "execute_result"
    },
    {
     "data": {
      "text/plain": [
       "[<matplotlib.lines.Line2D at 0x7fd07dadbe20>]"
      ]
     },
     "execution_count": 22,
     "metadata": {},
     "output_type": "execute_result"
    },
    {
     "data": {
      "text/plain": [
       "[<matplotlib.lines.Line2D at 0x7fd07dadbee0>]"
      ]
     },
     "execution_count": 22,
     "metadata": {},
     "output_type": "execute_result"
    },
    {
     "data": {
      "text/plain": [
       "[<matplotlib.lines.Line2D at 0x7fd07daff490>]"
      ]
     },
     "execution_count": 22,
     "metadata": {},
     "output_type": "execute_result"
    },
    {
     "data": {
      "text/plain": [
       "[<matplotlib.lines.Line2D at 0x7fd07daff6a0>]"
      ]
     },
     "execution_count": 22,
     "metadata": {},
     "output_type": "execute_result"
    },
    {
     "data": {
      "text/plain": [
       "[<matplotlib.lines.Line2D at 0x7fd07daffa30>]"
      ]
     },
     "execution_count": 22,
     "metadata": {},
     "output_type": "execute_result"
    },
    {
     "data": {
      "text/plain": [
       "[<matplotlib.lines.Line2D at 0x7fd07daffe50>]"
      ]
     },
     "execution_count": 22,
     "metadata": {},
     "output_type": "execute_result"
    },
    {
     "data": {
      "text/plain": [
       "[<matplotlib.lines.Line2D at 0x7fd07daff5e0>]"
      ]
     },
     "execution_count": 22,
     "metadata": {},
     "output_type": "execute_result"
    },
    {
     "data": {
      "text/plain": [
       "[<matplotlib.lines.Line2D at 0x7fd07daf9280>]"
      ]
     },
     "execution_count": 22,
     "metadata": {},
     "output_type": "execute_result"
    },
    {
     "data": {
      "text/plain": [
       "[<matplotlib.lines.Line2D at 0x7fd07daf9490>]"
      ]
     },
     "execution_count": 22,
     "metadata": {},
     "output_type": "execute_result"
    },
    {
     "data": {
      "text/plain": [
       "[<matplotlib.lines.Line2D at 0x7fd07daf93d0>]"
      ]
     },
     "execution_count": 22,
     "metadata": {},
     "output_type": "execute_result"
    },
    {
     "data": {
      "text/plain": [
       "[<matplotlib.lines.Line2D at 0x7fd07daf9d00>]"
      ]
     },
     "execution_count": 22,
     "metadata": {},
     "output_type": "execute_result"
    },
    {
     "data": {
      "text/plain": [
       "[<matplotlib.lines.Line2D at 0x7fd07daf9fa0>]"
      ]
     },
     "execution_count": 22,
     "metadata": {},
     "output_type": "execute_result"
    },
    {
     "data": {
      "text/plain": [
       "[<matplotlib.lines.Line2D at 0x7fcf21b6e490>]"
      ]
     },
     "execution_count": 22,
     "metadata": {},
     "output_type": "execute_result"
    },
    {
     "data": {
      "text/plain": [
       "[<matplotlib.lines.Line2D at 0x7fcf21b6e880>]"
      ]
     },
     "execution_count": 22,
     "metadata": {},
     "output_type": "execute_result"
    },
    {
     "data": {
      "text/plain": [
       "[<matplotlib.lines.Line2D at 0x7fcf21b6e640>]"
      ]
     },
     "execution_count": 22,
     "metadata": {},
     "output_type": "execute_result"
    },
    {
     "data": {
      "text/plain": [
       "[<matplotlib.lines.Line2D at 0x7fcf21b6ed90>]"
      ]
     },
     "execution_count": 22,
     "metadata": {},
     "output_type": "execute_result"
    },
    {
     "data": {
      "text/plain": [
       "[<matplotlib.lines.Line2D at 0x7fcf21b6e9d0>]"
      ]
     },
     "execution_count": 22,
     "metadata": {},
     "output_type": "execute_result"
    },
    {
     "data": {
      "text/plain": [
       "[<matplotlib.lines.Line2D at 0x7fcf21b8b640>]"
      ]
     },
     "execution_count": 22,
     "metadata": {},
     "output_type": "execute_result"
    },
    {
     "data": {
      "text/plain": [
       "[<matplotlib.lines.Line2D at 0x7fcf21b8b340>]"
      ]
     },
     "execution_count": 22,
     "metadata": {},
     "output_type": "execute_result"
    },
    {
     "data": {
      "text/plain": [
       "[<matplotlib.lines.Line2D at 0x7fcf21b8b970>]"
      ]
     },
     "execution_count": 22,
     "metadata": {},
     "output_type": "execute_result"
    },
    {
     "data": {
      "text/plain": [
       "[<matplotlib.lines.Line2D at 0x7fcf21b8b040>]"
      ]
     },
     "execution_count": 22,
     "metadata": {},
     "output_type": "execute_result"
    },
    {
     "data": {
      "text/plain": [
       "[<matplotlib.lines.Line2D at 0x7fcf21b8b400>]"
      ]
     },
     "execution_count": 22,
     "metadata": {},
     "output_type": "execute_result"
    },
    {
     "data": {
      "text/plain": [
       "[<matplotlib.lines.Line2D at 0x7fcf21b81490>]"
      ]
     },
     "execution_count": 22,
     "metadata": {},
     "output_type": "execute_result"
    },
    {
     "data": {
      "text/plain": [
       "[<matplotlib.lines.Line2D at 0x7fcf21b81880>]"
      ]
     },
     "execution_count": 22,
     "metadata": {},
     "output_type": "execute_result"
    },
    {
     "data": {
      "text/plain": [
       "[<matplotlib.lines.Line2D at 0x7fcf21b81a90>]"
      ]
     },
     "execution_count": 22,
     "metadata": {},
     "output_type": "execute_result"
    },
    {
     "data": {
      "text/plain": [
       "[<matplotlib.lines.Line2D at 0x7fcf21b81d60>]"
      ]
     },
     "execution_count": 22,
     "metadata": {},
     "output_type": "execute_result"
    },
    {
     "data": {
      "text/plain": [
       "[<matplotlib.lines.Line2D at 0x7fcf21b813d0>]"
      ]
     },
     "execution_count": 22,
     "metadata": {},
     "output_type": "execute_result"
    },
    {
     "data": {
      "text/plain": [
       "[<matplotlib.lines.Line2D at 0x7fcf21ba6580>]"
      ]
     },
     "execution_count": 22,
     "metadata": {},
     "output_type": "execute_result"
    },
    {
     "data": {
      "text/plain": [
       "[<matplotlib.lines.Line2D at 0x7fcf21ba6850>]"
      ]
     },
     "execution_count": 22,
     "metadata": {},
     "output_type": "execute_result"
    },
    {
     "data": {
      "text/plain": [
       "[<matplotlib.lines.Line2D at 0x7fcf21ba6c40>]"
      ]
     },
     "execution_count": 22,
     "metadata": {},
     "output_type": "execute_result"
    },
    {
     "data": {
      "text/plain": [
       "[<matplotlib.lines.Line2D at 0x7fcf21ba6b80>]"
      ]
     },
     "execution_count": 22,
     "metadata": {},
     "output_type": "execute_result"
    },
    {
     "data": {
      "text/plain": [
       "[<matplotlib.lines.Line2D at 0x7fcf21ba6f70>]"
      ]
     },
     "execution_count": 22,
     "metadata": {},
     "output_type": "execute_result"
    },
    {
     "data": {
      "text/plain": [
       "[<matplotlib.lines.Line2D at 0x7fcf21ba0190>]"
      ]
     },
     "execution_count": 22,
     "metadata": {},
     "output_type": "execute_result"
    },
    {
     "data": {
      "text/plain": [
       "[<matplotlib.lines.Line2D at 0x7fcf21ba0790>]"
      ]
     },
     "execution_count": 22,
     "metadata": {},
     "output_type": "execute_result"
    },
    {
     "data": {
      "text/plain": [
       "[<matplotlib.lines.Line2D at 0x7fcf21ba0a90>]"
      ]
     },
     "execution_count": 22,
     "metadata": {},
     "output_type": "execute_result"
    },
    {
     "data": {
      "text/plain": [
       "[<matplotlib.lines.Line2D at 0x7fcf21ba0e80>]"
      ]
     },
     "execution_count": 22,
     "metadata": {},
     "output_type": "execute_result"
    },
    {
     "data": {
      "text/plain": [
       "[<matplotlib.lines.Line2D at 0x7fcf21ba0a30>]"
      ]
     },
     "execution_count": 22,
     "metadata": {},
     "output_type": "execute_result"
    },
    {
     "data": {
      "text/plain": [
       "[<matplotlib.lines.Line2D at 0x7fcf2001d610>]"
      ]
     },
     "execution_count": 22,
     "metadata": {},
     "output_type": "execute_result"
    },
    {
     "data": {
      "text/plain": [
       "[<matplotlib.lines.Line2D at 0x7fcf2001d580>]"
      ]
     },
     "execution_count": 22,
     "metadata": {},
     "output_type": "execute_result"
    },
    {
     "data": {
      "text/plain": [
       "[<matplotlib.lines.Line2D at 0x7fcf2001dc40>]"
      ]
     },
     "execution_count": 22,
     "metadata": {},
     "output_type": "execute_result"
    },
    {
     "data": {
      "text/plain": [
       "[<matplotlib.lines.Line2D at 0x7fcf2001df70>]"
      ]
     },
     "execution_count": 22,
     "metadata": {},
     "output_type": "execute_result"
    },
    {
     "data": {
      "text/plain": [
       "[<matplotlib.lines.Line2D at 0x7fcf2002d040>]"
      ]
     },
     "execution_count": 22,
     "metadata": {},
     "output_type": "execute_result"
    },
    {
     "data": {
      "text/plain": [
       "[<matplotlib.lines.Line2D at 0x7fcf2002d100>]"
      ]
     },
     "execution_count": 22,
     "metadata": {},
     "output_type": "execute_result"
    },
    {
     "data": {
      "text/plain": [
       "[<matplotlib.lines.Line2D at 0x7fcf2002d790>]"
      ]
     },
     "execution_count": 22,
     "metadata": {},
     "output_type": "execute_result"
    },
    {
     "data": {
      "text/plain": [
       "[<matplotlib.lines.Line2D at 0x7fcf2002db50>]"
      ]
     },
     "execution_count": 22,
     "metadata": {},
     "output_type": "execute_result"
    },
    {
     "data": {
      "text/plain": [
       "[<matplotlib.lines.Line2D at 0x7fcf2002d070>]"
      ]
     },
     "execution_count": 22,
     "metadata": {},
     "output_type": "execute_result"
    },
    {
     "data": {
      "text/plain": [
       "[<matplotlib.lines.Line2D at 0x7fcf200391f0>]"
      ]
     },
     "execution_count": 22,
     "metadata": {},
     "output_type": "execute_result"
    },
    {
     "data": {
      "text/plain": [
       "[<matplotlib.lines.Line2D at 0x7fcf200396a0>]"
      ]
     },
     "execution_count": 22,
     "metadata": {},
     "output_type": "execute_result"
    },
    {
     "data": {
      "text/plain": [
       "[<matplotlib.lines.Line2D at 0x7fcf20039040>]"
      ]
     },
     "execution_count": 22,
     "metadata": {},
     "output_type": "execute_result"
    },
    {
     "data": {
      "text/plain": [
       "[<matplotlib.lines.Line2D at 0x7fcf20039b80>]"
      ]
     },
     "execution_count": 22,
     "metadata": {},
     "output_type": "execute_result"
    },
    {
     "data": {
      "text/plain": [
       "[<matplotlib.lines.Line2D at 0x7fcf20039ee0>]"
      ]
     },
     "execution_count": 22,
     "metadata": {},
     "output_type": "execute_result"
    },
    {
     "data": {
      "image/png": "[encoded data removed]",
      "text/plain": [
       "<Figure size 720x720 with 2 Axes>"
      ]
     },
     "metadata": {
      "needs_background": "light"
     },
     "output_type": "display_data"
    }
   ],
   "source": [
    "frame = 50\n",
    "print(frame)\n",
    "data1 = xarray.open_dataset(files[frame],drop_variables = drop_list)\n",
    "refl = data1['zhh01'].max(axis=0)\n",
    "grid_lat = data1['latitude']\n",
    "grid_lon = data1['longitude']\n",
    "\n",
    "if frame == 6:\n",
    "    bad = np.where(refl > 100)\n",
    "    refl[bad] = -999\n",
    "ref_levels = [5,10,15,20,25,30,35,40,45,50,55,60,65,70,75]\n",
    "\n",
    "fig, ax = plt.subplots(figsize=(10,10))\n",
    "\n",
    "fig.suptitle(str(rng[frame]))# + 'rhohv = '+str(rho) + ', ref > ' + str(ref))\n",
    "\n",
    "\n",
    "    \n",
    "refplt = ax.contourf(grid_lon,grid_lat, refl, extend = 'max',levels = ref_levels,cmap='pyart_LangRainbow12',origin = 'lower', vmin=-24, vmax=72)#,extent = [0,-10000,-20000,-10000])\n",
    "fig.colorbar(refplt,fraction=0.046, pad=0.04)\n",
    "i = np.where(refl_mask['segmentation_mask'][frame,:,:] > 0)\n",
    "\n",
    "x = [grid_lat[n].values for n in zip(i[0],i[1])]\n",
    "y = [grid_lon[n].values for n in zip(i[0],i[1])]\n",
    "\n",
    "imcell2 = ax.scatter(y,x,s = 0.1,c = 'gray', marker = '.',alpha = 0.25)\n",
    "    \n",
    "data1.close()\n",
    "\n",
    "\n",
    "for j in np.unique(Track['cell']):\n",
    "    #print(i)\n",
    "    if math.isfinite(j):\n",
    "        track_i = np.where(Track['cell'] == j)\n",
    "        if np.any(Track['frame'][track_i] == frame):\n",
    "\n",
    "            xx = [grid_lat[n].values for n in zip(Track['hdim_1'][track_i].values.round().astype(int),Track['hdim_2'][track_i].values.round().astype(int))]\n",
    "            yy = [grid_lon[n].values for n in zip(Track['hdim_1'][track_i].values.round().astype(int),Track['hdim_2'][track_i].values.round().astype(int))]\n",
    "\n",
    "            ax.plot( np.ravel(yy),np.ravel(xx), '-.',color='r')\n",
    "\n",
    "            #ax.text(yy[-1],xx[-1], f'{int(i)}',rotation = 45, fontsize = 7)\n",
    "        else:\n",
    "            continue\n",
    "    else:\n",
    "        continue\n",
    " \n",
    "\n",
    "\n",
    "## fig.savefig('20130619_'+str(frame)+'.png')\n",
    "\n",
    "\n"
   ]
  },
  {
   "cell_type": "code",
   "execution_count": null,
   "id": "8ee378d6-3f34-4b8c-9644-81e0bcc79a73",
   "metadata": {},
   "outputs": [],
   "source": []
  }
 ],
 "metadata": {
  "kernelspec": {
   "display_name": "Python 3 (ipykernel)",
   "language": "python",
   "name": "python3"
  },
  "language_info": {
   "codemirror_mode": {
    "name": "ipython",
    "version": 3
   },
   "file_extension": ".py",
   "mimetype": "text/x-python",
   "name": "python",
   "nbconvert_exporter": "python",
   "pygments_lexer": "ipython3",
   "version": "3.8.10"
  }
 },
 "nbformat": 4,
 "nbformat_minor": 5
}
